{
 "cells": [
  {
   "cell_type": "code",
   "execution_count": 1,
   "metadata": {},
   "outputs": [],
   "source": [
    "import csv\n",
    "import numpy as np\n",
    "import pandas as pd\n",
    "\n",
    "from sklearn import preprocessing\n",
    "from sklearn.cluster import KMeans\n",
    "from sklearn.decomposition import PCA\n",
    "from sklearn.metrics import silhouette_score, confusion_matrix\n",
    "from sklearn.model_selection import train_test_split\n",
    "from sklearn.linear_model import LinearRegression, LogisticRegression\n",
    "\n",
    "\n",
    "from matplotlib import cm\n",
    "from matplotlib import pyplot as plt\n",
    "\n",
    "%matplotlib inline"
   ]
  },
  {
   "cell_type": "code",
   "execution_count": 2,
   "metadata": {},
   "outputs": [],
   "source": [
    "BWISCONSIN_DATA = '../data/dataset/dataset_bcancer/breast-cancer-wisconsin.data'\n",
    "BWISCONSIN_NAME = '../data/dataset/dataset_bcancer/breast-cancer-wisconsin.names'\n",
    "UNFORMATTED_DATA = '../data/dataset/dataset_bcancer/unformatted-data'\n",
    "WDBC_DATA = '../data/dataset/dataset_bcancer/wdbc.data'\n",
    "WDBC_NAMES = '../data/dataset/dataset_bcancer/wdbc.names'\n",
    "WPBC_DATA = '../data/dataset_bcancer/wpbc.data'\n",
    "WPBC_NAMES = '../data/dataset_bcancer/wpbc.names'"
   ]
  },
  {
   "cell_type": "code",
   "execution_count": 3,
   "metadata": {},
   "outputs": [],
   "source": [
    "headers = ['id', 'outcome', 'time']\n",
    "for i in range(1, 33):\n",
    "    headers.append(f'features{i}')\n",
    "    \n",
    "headers[34] = 'lymph_node_status'\n",
    "headers[33] = 'tumor_size'\n",
    "    \n",
    "\n",
    "RAW = pd.read_csv(WPBC_DATA, na_values=\"?\", low_memory=False, names=headers, index_col='id')\n"
   ]
  },
  {
   "cell_type": "code",
   "execution_count": 4,
   "metadata": {},
   "outputs": [
    {
     "data": {
      "text/html": [
       "<div>\n",
       "<style scoped>\n",
       "    .dataframe tbody tr th:only-of-type {\n",
       "        vertical-align: middle;\n",
       "    }\n",
       "\n",
       "    .dataframe tbody tr th {\n",
       "        vertical-align: top;\n",
       "    }\n",
       "\n",
       "    .dataframe thead th {\n",
       "        text-align: right;\n",
       "    }\n",
       "</style>\n",
       "<table border=\"1\" class=\"dataframe\">\n",
       "  <thead>\n",
       "    <tr style=\"text-align: right;\">\n",
       "      <th></th>\n",
       "      <th>outcome</th>\n",
       "      <th>time</th>\n",
       "      <th>features1</th>\n",
       "      <th>features2</th>\n",
       "      <th>features3</th>\n",
       "      <th>features4</th>\n",
       "      <th>features5</th>\n",
       "      <th>features6</th>\n",
       "      <th>features7</th>\n",
       "      <th>features8</th>\n",
       "      <th>...</th>\n",
       "      <th>features23</th>\n",
       "      <th>features24</th>\n",
       "      <th>features25</th>\n",
       "      <th>features26</th>\n",
       "      <th>features27</th>\n",
       "      <th>features28</th>\n",
       "      <th>features29</th>\n",
       "      <th>features30</th>\n",
       "      <th>tumor_size</th>\n",
       "      <th>lymph_node_status</th>\n",
       "    </tr>\n",
       "    <tr>\n",
       "      <th>id</th>\n",
       "      <th></th>\n",
       "      <th></th>\n",
       "      <th></th>\n",
       "      <th></th>\n",
       "      <th></th>\n",
       "      <th></th>\n",
       "      <th></th>\n",
       "      <th></th>\n",
       "      <th></th>\n",
       "      <th></th>\n",
       "      <th></th>\n",
       "      <th></th>\n",
       "      <th></th>\n",
       "      <th></th>\n",
       "      <th></th>\n",
       "      <th></th>\n",
       "      <th></th>\n",
       "      <th></th>\n",
       "      <th></th>\n",
       "      <th></th>\n",
       "      <th></th>\n",
       "    </tr>\n",
       "  </thead>\n",
       "  <tbody>\n",
       "    <tr>\n",
       "      <th>119513</th>\n",
       "      <td>N</td>\n",
       "      <td>31</td>\n",
       "      <td>18.02</td>\n",
       "      <td>27.60</td>\n",
       "      <td>117.50</td>\n",
       "      <td>1013.0</td>\n",
       "      <td>0.09489</td>\n",
       "      <td>0.1036</td>\n",
       "      <td>0.1086</td>\n",
       "      <td>0.07055</td>\n",
       "      <td>...</td>\n",
       "      <td>139.70</td>\n",
       "      <td>1436.0</td>\n",
       "      <td>0.1195</td>\n",
       "      <td>0.1926</td>\n",
       "      <td>0.3140</td>\n",
       "      <td>0.1170</td>\n",
       "      <td>0.2677</td>\n",
       "      <td>0.08113</td>\n",
       "      <td>5.0</td>\n",
       "      <td>5.0</td>\n",
       "    </tr>\n",
       "    <tr>\n",
       "      <th>8423</th>\n",
       "      <td>N</td>\n",
       "      <td>61</td>\n",
       "      <td>17.99</td>\n",
       "      <td>10.38</td>\n",
       "      <td>122.80</td>\n",
       "      <td>1001.0</td>\n",
       "      <td>0.11840</td>\n",
       "      <td>0.2776</td>\n",
       "      <td>0.3001</td>\n",
       "      <td>0.14710</td>\n",
       "      <td>...</td>\n",
       "      <td>184.60</td>\n",
       "      <td>2019.0</td>\n",
       "      <td>0.1622</td>\n",
       "      <td>0.6656</td>\n",
       "      <td>0.7119</td>\n",
       "      <td>0.2654</td>\n",
       "      <td>0.4601</td>\n",
       "      <td>0.11890</td>\n",
       "      <td>3.0</td>\n",
       "      <td>2.0</td>\n",
       "    </tr>\n",
       "    <tr>\n",
       "      <th>842517</th>\n",
       "      <td>N</td>\n",
       "      <td>116</td>\n",
       "      <td>21.37</td>\n",
       "      <td>17.44</td>\n",
       "      <td>137.50</td>\n",
       "      <td>1373.0</td>\n",
       "      <td>0.08836</td>\n",
       "      <td>0.1189</td>\n",
       "      <td>0.1255</td>\n",
       "      <td>0.08180</td>\n",
       "      <td>...</td>\n",
       "      <td>159.10</td>\n",
       "      <td>1949.0</td>\n",
       "      <td>0.1188</td>\n",
       "      <td>0.3449</td>\n",
       "      <td>0.3414</td>\n",
       "      <td>0.2032</td>\n",
       "      <td>0.4334</td>\n",
       "      <td>0.09067</td>\n",
       "      <td>2.5</td>\n",
       "      <td>0.0</td>\n",
       "    </tr>\n",
       "    <tr>\n",
       "      <th>843483</th>\n",
       "      <td>N</td>\n",
       "      <td>123</td>\n",
       "      <td>11.42</td>\n",
       "      <td>20.38</td>\n",
       "      <td>77.58</td>\n",
       "      <td>386.1</td>\n",
       "      <td>0.14250</td>\n",
       "      <td>0.2839</td>\n",
       "      <td>0.2414</td>\n",
       "      <td>0.10520</td>\n",
       "      <td>...</td>\n",
       "      <td>98.87</td>\n",
       "      <td>567.7</td>\n",
       "      <td>0.2098</td>\n",
       "      <td>0.8663</td>\n",
       "      <td>0.6869</td>\n",
       "      <td>0.2575</td>\n",
       "      <td>0.6638</td>\n",
       "      <td>0.17300</td>\n",
       "      <td>2.0</td>\n",
       "      <td>0.0</td>\n",
       "    </tr>\n",
       "    <tr>\n",
       "      <th>843584</th>\n",
       "      <td>R</td>\n",
       "      <td>27</td>\n",
       "      <td>20.29</td>\n",
       "      <td>14.34</td>\n",
       "      <td>135.10</td>\n",
       "      <td>1297.0</td>\n",
       "      <td>0.10030</td>\n",
       "      <td>0.1328</td>\n",
       "      <td>0.1980</td>\n",
       "      <td>0.10430</td>\n",
       "      <td>...</td>\n",
       "      <td>152.20</td>\n",
       "      <td>1575.0</td>\n",
       "      <td>0.1374</td>\n",
       "      <td>0.2050</td>\n",
       "      <td>0.4000</td>\n",
       "      <td>0.1625</td>\n",
       "      <td>0.2364</td>\n",
       "      <td>0.07678</td>\n",
       "      <td>3.5</td>\n",
       "      <td>0.0</td>\n",
       "    </tr>\n",
       "  </tbody>\n",
       "</table>\n",
       "<p>5 rows × 34 columns</p>\n",
       "</div>"
      ],
      "text/plain": [
       "       outcome  time  features1  features2  features3  features4  features5  \\\n",
       "id                                                                            \n",
       "119513       N    31      18.02      27.60     117.50     1013.0    0.09489   \n",
       "8423         N    61      17.99      10.38     122.80     1001.0    0.11840   \n",
       "842517       N   116      21.37      17.44     137.50     1373.0    0.08836   \n",
       "843483       N   123      11.42      20.38      77.58      386.1    0.14250   \n",
       "843584       R    27      20.29      14.34     135.10     1297.0    0.10030   \n",
       "\n",
       "        features6  features7  features8  ...  features23  features24  \\\n",
       "id                                       ...                           \n",
       "119513     0.1036     0.1086    0.07055  ...      139.70      1436.0   \n",
       "8423       0.2776     0.3001    0.14710  ...      184.60      2019.0   \n",
       "842517     0.1189     0.1255    0.08180  ...      159.10      1949.0   \n",
       "843483     0.2839     0.2414    0.10520  ...       98.87       567.7   \n",
       "843584     0.1328     0.1980    0.10430  ...      152.20      1575.0   \n",
       "\n",
       "        features25  features26  features27  features28  features29  \\\n",
       "id                                                                   \n",
       "119513      0.1195      0.1926      0.3140      0.1170      0.2677   \n",
       "8423        0.1622      0.6656      0.7119      0.2654      0.4601   \n",
       "842517      0.1188      0.3449      0.3414      0.2032      0.4334   \n",
       "843483      0.2098      0.8663      0.6869      0.2575      0.6638   \n",
       "843584      0.1374      0.2050      0.4000      0.1625      0.2364   \n",
       "\n",
       "        features30  tumor_size  lymph_node_status  \n",
       "id                                                 \n",
       "119513     0.08113         5.0                5.0  \n",
       "8423       0.11890         3.0                2.0  \n",
       "842517     0.09067         2.5                0.0  \n",
       "843483     0.17300         2.0                0.0  \n",
       "843584     0.07678         3.5                0.0  \n",
       "\n",
       "[5 rows x 34 columns]"
      ]
     },
     "execution_count": 4,
     "metadata": {},
     "output_type": "execute_result"
    }
   ],
   "source": [
    "RAW.head()"
   ]
  },
  {
   "cell_type": "code",
   "execution_count": 5,
   "metadata": {},
   "outputs": [],
   "source": [
    "X_prog = RAW.iloc[ : , 2:35]\n",
    "y_prog = RAW.iloc[: , 0]\n",
    "l = preprocessing.LabelEncoder()\n",
    "y_prog = l.fit_transform(y_prog)"
   ]
  },
  {
   "cell_type": "code",
   "execution_count": 6,
   "metadata": {},
   "outputs": [],
   "source": [
    "X_train, X_test, y_train, y_test = train_test_split(X_prog, y_prog, test_size = 0.3, random_state = 1)\n",
    "X_train = X_train.fillna(X_train.mean())\n",
    "X_test = X_test.fillna(X_test.mean())"
   ]
  },
  {
   "cell_type": "markdown",
   "metadata": {},
   "source": [
    "### Logistic Regression using all features (minus time and and outcome)"
   ]
  },
  {
   "cell_type": "code",
   "execution_count": 7,
   "metadata": {},
   "outputs": [],
   "source": [
    "clf = LogisticRegression(max_iter=1000, multi_class='multinomial', solver='lbfgs', random_state=1).fit(X_train, y_train)"
   ]
  },
  {
   "cell_type": "code",
   "execution_count": 8,
   "metadata": {},
   "outputs": [
    {
     "name": "stdout",
     "output_type": "stream",
     "text": [
      "Score: 0.7333333333333333\n",
      "Confusion Matrix:\n",
      "[[42  3]\n",
      " [13  2]]\n"
     ]
    }
   ],
   "source": [
    "y_pre = clf.predict(X_test)\n",
    "print('Score:', clf.score(X_test, y_test))\n",
    "print('Confusion Matrix:')\n",
    "print(confusion_matrix(y_test, y_pre))"
   ]
  },
  {
   "cell_type": "markdown",
   "metadata": {},
   "source": [
    "### Logistic Regression without lymp node status and tumor size"
   ]
  },
  {
   "cell_type": "code",
   "execution_count": 9,
   "metadata": {},
   "outputs": [
    {
     "name": "stdout",
     "output_type": "stream",
     "text": [
      "Score: 0.7166666666666667\n",
      "Confusion Matrix:\n",
      "[[42  3]\n",
      " [14  1]]\n"
     ]
    }
   ],
   "source": [
    "X_train_image_features = X_train.iloc[ : , 0:30]\n",
    "X_test_image_features = X_test.iloc[ : , 0:30]\n",
    "clf = LogisticRegression(max_iter=5000, multi_class='multinomial', solver='lbfgs', random_state=1).fit(X_train_image_features, y_train)\n",
    "y_pre = clf.predict(X_test_image_features)\n",
    "print('Score:', clf.score(X_test_image_features, y_test))\n",
    "print('Confusion Matrix:')\n",
    "print(confusion_matrix(y_test, y_pre))\n"
   ]
  },
  {
   "cell_type": "markdown",
   "metadata": {},
   "source": [
    "### Logistic Regression without lymp node status only"
   ]
  },
  {
   "cell_type": "code",
   "execution_count": 10,
   "metadata": {},
   "outputs": [
    {
     "name": "stdout",
     "output_type": "stream",
     "text": [
      "Score: 0.7166666666666667\n",
      "Confusion Matrix:\n",
      "[[42  3]\n",
      " [14  1]]\n"
     ]
    }
   ],
   "source": [
    "X_train_no_lymp_node = X_train.iloc[ : , 0:31]\n",
    "X_test_no_lymp_node = X_test.iloc[ : , 0:31]\n",
    "clf = LogisticRegression(max_iter=5000, multi_class='multinomial', solver='lbfgs', random_state=1).fit(X_train_no_lymp_node, y_train)\n",
    "y_pre = clf.predict(X_test_no_lymp_node)\n",
    "print('Score:', clf.score(X_test_no_lymp_node, y_test))\n",
    "print('Confusion Matrix:')\n",
    "print(confusion_matrix(y_test, y_pre))"
   ]
  },
  {
   "cell_type": "markdown",
   "metadata": {},
   "source": [
    "### Logistic Regression without tumor size status only"
   ]
  },
  {
   "cell_type": "code",
   "execution_count": 11,
   "metadata": {},
   "outputs": [
    {
     "name": "stdout",
     "output_type": "stream",
     "text": [
      "Score: 0.7333333333333333\n",
      "Confusion Matrix:\n",
      "[[42  3]\n",
      " [13  2]]\n"
     ]
    }
   ],
   "source": [
    "X_train_no_tumor_size = X_train[X_train.columns.difference(['tumor_size'])]\n",
    "X_test_no_tumor_size = X_test[X_test.columns.difference(['tumor_size'])]\n",
    "clf = LogisticRegression(max_iter=5000, multi_class='multinomial', solver='lbfgs', random_state=1).fit(X_train_no_tumor_size, y_train)\n",
    "y_pre = clf.predict(X_test_no_tumor_size)\n",
    "print('Score:', clf.score(X_test_no_tumor_size, y_test))\n",
    "print('Confusion Matrix:')\n",
    "print(confusion_matrix(y_test, y_pre))"
   ]
  },
  {
   "cell_type": "markdown",
   "metadata": {},
   "source": [
    "### Conclusion\n",
    "\n",
    "It seems that the image features and the lymp node sizes are the ones contributing to the proper classification.\n",
    "\n",
    "Also, using logistic regression yields a low classification score and might not be ideal for the data type being used.\n",
    "\n",
    "### Some analysis"
   ]
  },
  {
   "cell_type": "code",
   "execution_count": 24,
   "metadata": {},
   "outputs": [],
   "source": [
    "recurr = RAW[RAW.outcome == 'R'].sort_values(by=['time', 'tumor_size'])\n",
    "no_recurr = RAW[RAW.outcome == 'N'].sort_values(by=['time', 'tumor_size'])"
   ]
  },
  {
   "cell_type": "code",
   "execution_count": 29,
   "metadata": {},
   "outputs": [
    {
     "data": {
      "image/png": "[encoded data removed]",
      "text/plain": [
       "<Figure size 1296x1296 with 1 Axes>"
      ]
     },
     "metadata": {
      "needs_background": "light"
     },
     "output_type": "display_data"
    },
    {
     "name": "stdout",
     "output_type": "stream",
     "text": [
      "Mean recurrent time in months: 25.085106382978722\n"
     ]
    }
   ],
   "source": [
    "fig, ax = plt.subplots(figsize=(18, 18))\n",
    "ax.scatter(recurr['time'], recurr['tumor_size'], marker='o', s=30, edgecolor='k')\n",
    "plt.ylabel('Tumor size')\n",
    "plt.xlabel('Months')\n",
    "plt.show()\n",
    "\n",
    "print('Mean recurrent time in months:', recurr['time'].mean())"
   ]
  },
  {
   "cell_type": "markdown",
   "metadata": {},
   "source": [
    "When comparing the tumor sizes with the reccurence time, we can see that even small tumor size has a high probability of recurring."
   ]
  },
  {
   "cell_type": "code",
   "execution_count": 27,
   "metadata": {},
   "outputs": [
    {
     "data": {
      "image/png": "[encoded data removed]",
      "text/plain": [
       "<Figure size 1296x1296 with 1 Axes>"
      ]
     },
     "metadata": {
      "needs_background": "light"
     },
     "output_type": "display_data"
    }
   ],
   "source": [
    "fig, ax = plt.subplots(figsize=(18, 18))\n",
    "ax.scatter(no_recurr['time'], no_recurr['tumor_size'], marker='o', s=30, edgecolor='k')\n",
    "plt.ylabel('Tumor size')\n",
    "plt.xlabel('Months')\n",
    "plt.show()"
   ]
  },
  {
   "cell_type": "markdown",
   "metadata": {},
   "source": [
    "Same goes for non recurring\n",
    "\n",
    "#### Probabilty of recurring\n",
    "\n",
    "Since the mean time of recurring is 25 months(? or days or weeks?), lets try to get the probabilty of non-recurrent patients with less than 25 (months/weeks) being non-recurring."
   ]
  },
  {
   "cell_type": "code",
   "execution_count": 36,
   "metadata": {},
   "outputs": [],
   "source": [
    "non_recurr_less_than = no_recurr[no_recurr.time <= 25]\n",
    "\n",
    "X_nr = non_recurr_less_than.iloc[ : , 2:35]\n",
    "y_nr = non_recurr_less_than.iloc[: , 0]\n",
    "l = preprocessing.LabelEncoder()\n",
    "y_nr = l.fit_transform(y_nr)\n",
    "\n",
    "X_r = recurr.iloc[ : , 2:35]\n",
    "y_r = recurr.iloc[: , 0]\n",
    "l = preprocessing.LabelEncoder()\n",
    "y_r = l.fit_transform(y_r)\n",
    "\n",
    "X_r = X_r.fillna(X_r.mean())\n",
    "X_nr = X_nr.fillna(X_nr.mean())"
   ]
  },
  {
   "cell_type": "markdown",
   "metadata": {},
   "source": [
    "### NOTE FROM NINZ\n",
    "\n",
    "Itutuloy ko dapat to na naive bayse kaso baka nagawa na ni Pam. pero yung idea nya, you can get the probability of the cancer returning para dun sa mga less than 25 (weeks/months) na non-recurring"
   ]
  },
  {
   "cell_type": "code",
   "execution_count": null,
   "metadata": {},
   "outputs": [],
   "source": []
  }
 ],
 "metadata": {
  "kernelspec": {
   "display_name": "cs297-fZk1rqQo",
   "language": "python",
   "name": "cs297-fzk1rqqo"
  },
  "language_info": {
   "codemirror_mode": {
    "name": "ipython",
    "version": 3
   },
   "file_extension": ".py",
   "mimetype": "text/x-python",
   "name": "python",
   "nbconvert_exporter": "python",
   "pygments_lexer": "ipython3",
   "version": "3.6.1"
  }
 },
 "nbformat": 4,
 "nbformat_minor": 2
}
