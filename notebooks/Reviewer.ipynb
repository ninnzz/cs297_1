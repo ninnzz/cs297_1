{
 "cells": [
  {
   "cell_type": "code",
   "execution_count": 1,
   "metadata": {},
   "outputs": [],
   "source": [
    "import numpy as np\n",
    "import pandas as pd"
   ]
  },
  {
   "cell_type": "code",
   "execution_count": 45,
   "metadata": {},
   "outputs": [],
   "source": [
    "from sklearn.naive_bayes import GaussianNB\n",
    "from sklearn.linear_model import LinearRegression, LogisticRegression\n",
    "from sklearn.cluster import KMeans\n",
    "from sklearn.neighbors import KNeighborsClassifier\n",
    "from sklearn.metrics import confusion_matrix, silhouette_score\n",
    "from sklearn.model_selection import train_test_split\n",
    "from sklearn.decomposition import PCA\n",
    "from sklearn import datasets"
   ]
  },
  {
   "cell_type": "code",
   "execution_count": 46,
   "metadata": {},
   "outputs": [],
   "source": [
    "from matplotlib import pyplot as plt"
   ]
  },
  {
   "cell_type": "code",
   "execution_count": 47,
   "metadata": {},
   "outputs": [
    {
     "data": {
      "text/plain": [
       "2784.06823408584"
      ]
     },
     "execution_count": 47,
     "metadata": {},
     "output_type": "execute_result"
    }
   ],
   "source": [
    "df = pd.read_csv('../data/Example1.csv',sep='\\t')\n",
    "\n",
    "km = KMeans(n_clusters=3).fit(df)\n",
    "pred = km.predict(df)\n",
    "km.cluster_centers_\n",
    "km.inertia_"
   ]
  },
  {
   "cell_type": "code",
   "execution_count": 48,
   "metadata": {},
   "outputs": [
    {
     "data": {
      "text/plain": [
       "array([0.14890594, 0.13618771])"
      ]
     },
     "execution_count": 48,
     "metadata": {},
     "output_type": "execute_result"
    }
   ],
   "source": [
    "pca_df = pd.read_csv('../data/Example3.csv',sep='\\t')\n",
    "\n",
    "pca = PCA(n_components=2).fit(pca_df)\n",
    "new_x = pca.transform(pca_df)\n",
    "pca.components_\n",
    "pca.explained_variance_ratio_"
   ]
  },
  {
   "cell_type": "code",
   "execution_count": 49,
   "metadata": {},
   "outputs": [],
   "source": [
    "FILE_X = '../data/lec_4/Example1_features.csv'\n",
    "FILE_Y = '../data/lec_4/Example1_target.csv'\n",
    "X = pd.read_csv(FILE_X)\n",
    "y = pd.read_csv(FILE_Y)\n",
    "\n",
    "reg = LinearRegression().fit(X, y)\n",
    "r = reg.score(X, y) # linera correlation score\n",
    "m = reg.coef_ # coefficient\n",
    "b = reg.intercept_ # intercept\n",
    "\n",
    "y_pred = reg.predict(X)\n"
   ]
  },
  {
   "cell_type": "code",
   "execution_count": 66,
   "metadata": {},
   "outputs": [
    {
     "name": "stderr",
     "output_type": "stream",
     "text": [
      "/Users/ninz/.local/share/virtualenvs/cs297-fZk1rqQo/lib/python3.6/site-packages/sklearn/linear_model/logistic.py:433: FutureWarning: Default solver will be changed to 'lbfgs' in 0.22. Specify a solver to silence this warning.\n",
      "  FutureWarning)\n",
      "/Users/ninz/.local/share/virtualenvs/cs297-fZk1rqQo/lib/python3.6/site-packages/sklearn/utils/validation.py:761: DataConversionWarning: A column-vector y was passed when a 1d array was expected. Please change the shape of y to (n_samples, ), for example using ravel().\n",
      "  y = column_or_1d(y, warn=True)\n"
     ]
    },
    {
     "data": {
      "text/plain": [
       "array([[0.99575082, 0.00424918],\n",
       "       [0.02095939, 0.97904061],\n",
       "       [0.00201855, 0.99798145],\n",
       "       [0.32386682, 0.67613318],\n",
       "       [0.00430508, 0.99569492],\n",
       "       [0.86897212, 0.13102788],\n",
       "       [0.99703157, 0.00296843]])"
      ]
     },
     "execution_count": 66,
     "metadata": {},
     "output_type": "execute_result"
    }
   ],
   "source": [
    "TRAIN = '../data/lec_6/Example1_train.xlsx'\n",
    "TEST = '../data/lec_6/Example1_test.xlsx'\n",
    "train = pd.ExcelFile(TRAIN)\n",
    "test = pd.ExcelFile(TEST)\n",
    "\n",
    "X_train = train.parse('Features')\n",
    "y_train = train.parse('target')\n",
    "\n",
    "X_test = test.parse('Features')\n",
    "y_test = test.parse('target')\n",
    "\n",
    "reg = LogisticRegression(random_state=123).fit(X_train, y_train)\n",
    "\n",
    "reg.score(X_test, y_test) # classifier score\n",
    "\n",
    "reg.coef_\n",
    "reg.intercept_\n",
    "\n",
    "y_pred = reg.predict(X_test)\n",
    "\n",
    "confusion_matrix(y_test, y_pred) # Confusion matrix for prediction results\n",
    "\n",
    "reg.predict_proba(X_test) # Probability of where the item belongs. if there are three class, then its 3"
   ]
  },
  {
   "cell_type": "code",
   "execution_count": 78,
   "metadata": {},
   "outputs": [],
   "source": [
    "FILE_X = '../data/lec_5/kNN_features.csv'\n",
    "FILE_Y = '../data/lec_5/kNN_target.csv'\n",
    "X = pd.read_csv(FILE_X)\n",
    "y_ = pd.read_csv(FILE_Y)\n",
    "\n",
    "y = y_.Labels\n",
    "\n",
    "k = KNeighborsClassifier(n_neighbors=3).fit(X, y)\n",
    "x_new = np.array([[1, -3], [2, 1]])\n",
    "\n",
    "y_pred = k.predict(x_new)"
   ]
  },
  {
   "cell_type": "code",
   "execution_count": 89,
   "metadata": {},
   "outputs": [
    {
     "data": {
      "text/plain": [
       "array([[21,  0,  0],\n",
       "       [ 0, 10,  0],\n",
       "       [ 0,  1, 13]])"
      ]
     },
     "execution_count": 89,
     "metadata": {},
     "output_type": "execute_result"
    }
   ],
   "source": [
    "iris = datasets.load_iris()\n",
    "X_iris = iris.data\n",
    "y_iris = iris.target\n",
    "\n",
    "X_train, X_test, y_train, y_test = train_test_split(X_iris, y_iris, test_size=0.3, random_state=4)\n",
    "\n",
    "clf = GaussianNB().fit(X_train, y_train)\n",
    "y_pred = clf.predict(X_test)\n",
    "\n",
    "clf.score(X_train, y_train)\n",
    "\n",
    "clf.predict_proba(X_train)\n",
    "\n",
    "confusion_matrix(y_test, y_pred)"
   ]
  },
  {
   "cell_type": "code",
   "execution_count": null,
   "metadata": {},
   "outputs": [],
   "source": []
  }
 ],
 "metadata": {
  "kernelspec": {
   "display_name": "cs297-fZk1rqQo",
   "language": "python",
   "name": "cs297-fzk1rqqo"
  },
  "language_info": {
   "codemirror_mode": {
    "name": "ipython",
    "version": 3
   },
   "file_extension": ".py",
   "mimetype": "text/x-python",
   "name": "python",
   "nbconvert_exporter": "python",
   "pygments_lexer": "ipython3",
   "version": "3.6.1"
  }
 },
 "nbformat": 4,
 "nbformat_minor": 2
}
