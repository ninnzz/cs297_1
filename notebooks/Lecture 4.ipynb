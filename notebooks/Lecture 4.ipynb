{
 "cells": [
  {
   "cell_type": "code",
   "execution_count": 2,
   "metadata": {},
   "outputs": [],
   "source": [
    "import math\n",
    "import numpy as np\n",
    "import pandas as pd\n",
    "from sklearn.linear_model import LinearRegression"
   ]
  },
  {
   "cell_type": "markdown",
   "metadata": {},
   "source": [
    "**Clustering cons:**\n",
    "- Categorical -> numeric is difficult\n",
    "- Categorical cannot be matched with the clusters\n",
    "\n",
    "> Clustering is okay to start, but its difficult to make sense for more clusters\n",
    "\n",
    "###  Statistical Classification\n",
    "\n",
    "Given\n",
    "\n",
    "1) A n\\*m = \n",
    "\n",
    "```\n",
    "[\n",
    "    x1\n",
    "    x2\n",
    "    .\n",
    "    .\n",
    "    xn\n",
    "]\n",
    "```\n",
    "   \n",
    "2) Target/dependent\n",
    "y =\n",
    "\n",
    "```\n",
    "[\n",
    "    y1\n",
    "    y2\n",
    "    .\n",
    "    .\n",
    "    yn\n",
    "]\n",
    "\n",
    "```\n",
    "\n",
    "`yi is an element of [A1, A2, A3. . . Ak]` where Ai is a label/category\n",
    "\n",
    "**Linear Regression**\n",
    "\n",
    "Base case\n",
    "\n",
    "```\n",
    "X = \n",
    "[\n",
    "    x1\n",
    "    x2\n",
    "    .\n",
    "    .\n",
    "    xn\n",
    "]\n",
    "\n",
    "Y = \n",
    "[\n",
    "    y1\n",
    "    y2\n",
    "    .\n",
    "    .\n",
    "    yn\n",
    "]\n",
    "```\n",
    "\n",
    "Goal: Find constants m,b such that `y = mx + b`"
   ]
  },
  {
   "cell_type": "markdown",
   "metadata": {},
   "source": [
    "**Manual example**\n",
    "\n",
    "| x  | y  |xy |x^2|y^2|\n",
    "|----|----|----|---|---|\n",
    "|  1 |-0.5| -0.5  | 1  |   |\n",
    "|  2 | 6  | 6  | 4 |   |\n",
    "|  3 |7.8 | 7.8  | 9  |   |\n",
    "|  4 | 21 | 21  | 16  |   |\n",
    "|  5 | 40 | 40  | 25  |   |\n",
    "|  6 | 42 |  42 | 36  |   |\n",
    "|    |\n",
    "| 21 | 25.35 | 116.3| 91 | |\n",
    "| Ex | Ey | Exy | Ex^2 | Ey^2 |\n",
    "\n",
    "```\n",
    "b = ybar - mxbar\n",
    "  = 4.225 - 3.5(1.58)\n",
    "  = -1.25 (-1.305 . . . . )\n",
    "```\n",
    "\n",
    "The line that best fits the data is `y_hat = 1.58x - 1.29`\n",
    "\n",
    "```\n",
    "%AE =   | predicted - actual |\n",
    "        | / act              | * 100\n",
    "```\n",
    "\n",
    "\n",
    "\n",
    "**Linear correlation**\n",
    "\n",
    "`r = [-1 , 1]`\n",
    "\n",
    "If close to 1, there is a strong positive linear relationship. If the 1st variable increase, then dependent var will increase.\n",
    "\n",
    "If close to -1, strong negative linear relationship. Independent var incrase, the dependent var decrease\n",
    "\n",
    "r^2 will tell you that some percent of the changed in Y is caused by change in X"
   ]
  },
  {
   "cell_type": "code",
   "execution_count": 3,
   "metadata": {},
   "outputs": [
    {
     "data": {
      "text/plain": [
       "0.88"
      ]
     },
     "execution_count": 3,
     "metadata": {},
     "output_type": "execute_result"
    }
   ],
   "source": [
    "c = ((6 * 91) - (21 * 21)) * ((6 * 156.57) - (25.35 * 25.35)) \n",
    "b = math.sqrt(c)\n",
    "\n",
    "a = (6 * 116.3) - (21 * 25.35)\n",
    "r = a / b\n",
    "r = round(r, 2)\n",
    "r_squared = round(r**2, 2)\n",
    "r_squared"
   ]
  },
  {
   "cell_type": "code",
   "execution_count": 4,
   "metadata": {},
   "outputs": [],
   "source": [
    "FILE = '../data/lec_4/Regression.xlsx'\n",
    "df = pd.read_excel(FILE, sheet_name='Example')"
   ]
  },
  {
   "cell_type": "code",
   "execution_count": 5,
   "metadata": {},
   "outputs": [
    {
     "ename": "ValueError",
     "evalue": "Found input variables with inconsistent numbers of samples: [1, 6]",
     "output_type": "error",
     "traceback": [
      "\u001b[0;31m---------------------------------------------------------------------------\u001b[0m",
      "\u001b[0;31mValueError\u001b[0m                                Traceback (most recent call last)",
      "\u001b[0;32m<ipython-input-5-68dff81dc93f>\u001b[0m in \u001b[0;36m<module>\u001b[0;34m\u001b[0m\n\u001b[1;32m      2\u001b[0m \u001b[0my\u001b[0m \u001b[0;34m=\u001b[0m \u001b[0mdf\u001b[0m\u001b[0;34m[\u001b[0m\u001b[0;34m'y'\u001b[0m\u001b[0;34m]\u001b[0m\u001b[0;34m\u001b[0m\u001b[0m\n\u001b[1;32m      3\u001b[0m \u001b[0;34m\u001b[0m\u001b[0m\n\u001b[0;32m----> 4\u001b[0;31m \u001b[0mreg\u001b[0m \u001b[0;34m=\u001b[0m \u001b[0mLinearRegression\u001b[0m\u001b[0;34m(\u001b[0m\u001b[0;34m)\u001b[0m\u001b[0;34m.\u001b[0m\u001b[0mfit\u001b[0m\u001b[0;34m(\u001b[0m\u001b[0mX\u001b[0m\u001b[0;34m,\u001b[0m \u001b[0my\u001b[0m\u001b[0;34m)\u001b[0m\u001b[0;34m\u001b[0m\u001b[0m\n\u001b[0m",
      "\u001b[0;32m~/.local/share/virtualenvs/cs297-fZk1rqQo/lib/python3.6/site-packages/sklearn/linear_model/base.py\u001b[0m in \u001b[0;36mfit\u001b[0;34m(self, X, y, sample_weight)\u001b[0m\n\u001b[1;32m    456\u001b[0m         \u001b[0mn_jobs_\u001b[0m \u001b[0;34m=\u001b[0m \u001b[0mself\u001b[0m\u001b[0;34m.\u001b[0m\u001b[0mn_jobs\u001b[0m\u001b[0;34m\u001b[0m\u001b[0m\n\u001b[1;32m    457\u001b[0m         X, y = check_X_y(X, y, accept_sparse=['csr', 'csc', 'coo'],\n\u001b[0;32m--> 458\u001b[0;31m                          y_numeric=True, multi_output=True)\n\u001b[0m\u001b[1;32m    459\u001b[0m \u001b[0;34m\u001b[0m\u001b[0m\n\u001b[1;32m    460\u001b[0m         \u001b[0;32mif\u001b[0m \u001b[0msample_weight\u001b[0m \u001b[0;32mis\u001b[0m \u001b[0;32mnot\u001b[0m \u001b[0;32mNone\u001b[0m \u001b[0;32mand\u001b[0m \u001b[0mnp\u001b[0m\u001b[0;34m.\u001b[0m\u001b[0matleast_1d\u001b[0m\u001b[0;34m(\u001b[0m\u001b[0msample_weight\u001b[0m\u001b[0;34m)\u001b[0m\u001b[0;34m.\u001b[0m\u001b[0mndim\u001b[0m \u001b[0;34m>\u001b[0m \u001b[0;36m1\u001b[0m\u001b[0;34m:\u001b[0m\u001b[0;34m\u001b[0m\u001b[0m\n",
      "\u001b[0;32m~/.local/share/virtualenvs/cs297-fZk1rqQo/lib/python3.6/site-packages/sklearn/utils/validation.py\u001b[0m in \u001b[0;36mcheck_X_y\u001b[0;34m(X, y, accept_sparse, accept_large_sparse, dtype, order, copy, force_all_finite, ensure_2d, allow_nd, multi_output, ensure_min_samples, ensure_min_features, y_numeric, warn_on_dtype, estimator)\u001b[0m\n\u001b[1;32m    764\u001b[0m         \u001b[0my\u001b[0m \u001b[0;34m=\u001b[0m \u001b[0my\u001b[0m\u001b[0;34m.\u001b[0m\u001b[0mastype\u001b[0m\u001b[0;34m(\u001b[0m\u001b[0mnp\u001b[0m\u001b[0;34m.\u001b[0m\u001b[0mfloat64\u001b[0m\u001b[0;34m)\u001b[0m\u001b[0;34m\u001b[0m\u001b[0m\n\u001b[1;32m    765\u001b[0m \u001b[0;34m\u001b[0m\u001b[0m\n\u001b[0;32m--> 766\u001b[0;31m     \u001b[0mcheck_consistent_length\u001b[0m\u001b[0;34m(\u001b[0m\u001b[0mX\u001b[0m\u001b[0;34m,\u001b[0m \u001b[0my\u001b[0m\u001b[0;34m)\u001b[0m\u001b[0;34m\u001b[0m\u001b[0m\n\u001b[0m\u001b[1;32m    767\u001b[0m \u001b[0;34m\u001b[0m\u001b[0m\n\u001b[1;32m    768\u001b[0m     \u001b[0;32mreturn\u001b[0m \u001b[0mX\u001b[0m\u001b[0;34m,\u001b[0m \u001b[0my\u001b[0m\u001b[0;34m\u001b[0m\u001b[0m\n",
      "\u001b[0;32m~/.local/share/virtualenvs/cs297-fZk1rqQo/lib/python3.6/site-packages/sklearn/utils/validation.py\u001b[0m in \u001b[0;36mcheck_consistent_length\u001b[0;34m(*arrays)\u001b[0m\n\u001b[1;32m    233\u001b[0m     \u001b[0;32mif\u001b[0m \u001b[0mlen\u001b[0m\u001b[0;34m(\u001b[0m\u001b[0muniques\u001b[0m\u001b[0;34m)\u001b[0m \u001b[0;34m>\u001b[0m \u001b[0;36m1\u001b[0m\u001b[0;34m:\u001b[0m\u001b[0;34m\u001b[0m\u001b[0m\n\u001b[1;32m    234\u001b[0m         raise ValueError(\"Found input variables with inconsistent numbers of\"\n\u001b[0;32m--> 235\u001b[0;31m                          \" samples: %r\" % [int(l) for l in lengths])\n\u001b[0m\u001b[1;32m    236\u001b[0m \u001b[0;34m\u001b[0m\u001b[0m\n\u001b[1;32m    237\u001b[0m \u001b[0;34m\u001b[0m\u001b[0m\n",
      "\u001b[0;31mValueError\u001b[0m: Found input variables with inconsistent numbers of samples: [1, 6]"
     ]
    }
   ],
   "source": [
    "X = [list(df['X'])]\n",
    "y = df['y']\n",
    "\n",
    "reg = LinearRegression().fit(X, y)"
   ]
  },
  {
   "cell_type": "code",
   "execution_count": 6,
   "metadata": {},
   "outputs": [
    {
     "ename": "NameError",
     "evalue": "name 'reg' is not defined",
     "output_type": "error",
     "traceback": [
      "\u001b[0;31m---------------------------------------------------------------------------\u001b[0m",
      "\u001b[0;31mNameError\u001b[0m                                 Traceback (most recent call last)",
      "\u001b[0;32m<ipython-input-6-1cc5c602c575>\u001b[0m in \u001b[0;36m<module>\u001b[0;34m\u001b[0m\n\u001b[1;32m      1\u001b[0m \u001b[0;31m# Slope\u001b[0m\u001b[0;34m\u001b[0m\u001b[0;34m\u001b[0m\u001b[0m\n\u001b[0;32m----> 2\u001b[0;31m \u001b[0mm\u001b[0m \u001b[0;34m=\u001b[0m \u001b[0mreg\u001b[0m\u001b[0;34m.\u001b[0m\u001b[0mcoef_\u001b[0m\u001b[0;34m\u001b[0m\u001b[0m\n\u001b[0m\u001b[1;32m      3\u001b[0m \u001b[0;34m\u001b[0m\u001b[0m\n\u001b[1;32m      4\u001b[0m \u001b[0;31m# Intercept\u001b[0m\u001b[0;34m\u001b[0m\u001b[0;34m\u001b[0m\u001b[0m\n\u001b[1;32m      5\u001b[0m \u001b[0mb\u001b[0m \u001b[0;34m=\u001b[0m \u001b[0mreg\u001b[0m\u001b[0;34m.\u001b[0m\u001b[0mintercept_\u001b[0m\u001b[0;34m\u001b[0m\u001b[0m\n",
      "\u001b[0;31mNameError\u001b[0m: name 'reg' is not defined"
     ]
    }
   ],
   "source": [
    "# Slope\n",
    "m = reg.coef_\n",
    "\n",
    "# Intercept\n",
    "b = reg.intercept_\n",
    "\n",
    "# Correlation\n",
    "r = reg.score(X,y)"
   ]
  },
  {
   "cell_type": "code",
   "execution_count": null,
   "metadata": {},
   "outputs": [],
   "source": []
  },
  {
   "cell_type": "markdown",
   "metadata": {},
   "source": [
    "### Linearization\n",
    "\n",
    "```\n",
    "\n",
    "y = e^mx+b\n",
    "\n",
    "ln(y) = ln(e^mx+b)\n",
    "\n",
    "lny = mx + b\n",
    "\n",
    "lny --> rule that you have to follow\n",
    "\n",
    "x and lny have the linear relationsip, you have to convert first so that you can have a linear relation\n",
    "\n",
    "```\n",
    "\n",
    "\n",
    "###   Statistical Classification\n",
    "\n",
    "General goal\n",
    "\n",
    "- \\# of features (x)\n",
    "- range of values for y\n",
    "\n",
    "\n",
    "### Multinomial Regression\n",
    "\n",
    "Goal: Find M_vector, and b such that\n",
    "\n",
    "`y = M_vector * x_vector + b` (getting dot procut of M_vector and x_vector)"
   ]
  },
  {
   "cell_type": "code",
   "execution_count": 7,
   "metadata": {},
   "outputs": [],
   "source": [
    "FILE_X = '../data/lec_4/Example1_features.csv'\n",
    "FILE_Y = '../data/lec_4/Example1_target.csv'\n",
    "X = pd.read_csv(FILE_X)\n",
    "y = pd.read_csv(FILE_Y)"
   ]
  },
  {
   "cell_type": "code",
   "execution_count": 8,
   "metadata": {},
   "outputs": [],
   "source": [
    "reg = LinearRegression().fit(X, y)\n",
    "m = reg.coef_\n",
    "b = reg.intercept_\n",
    "r = reg.score(X, y)\n",
    "\n",
    "y_predicted = reg.predict(X)"
   ]
  },
  {
   "cell_type": "code",
   "execution_count": 9,
   "metadata": {},
   "outputs": [
    {
     "name": "stdout",
     "output_type": "stream",
     "text": [
      "slope\n",
      "[[ 2.95909854 -3.78312028 -2.63414909]]\n",
      "intercept\n",
      "[9.51485576]\n",
      "correlation\n",
      "0.9427704070730197\n"
     ]
    }
   ],
   "source": [
    "print('slope')\n",
    "print(m)\n",
    "\n",
    "print('intercept')\n",
    "print(b)\n",
    "\n",
    "print('correlation')\n",
    "print(r)"
   ]
  },
  {
   "cell_type": "code",
   "execution_count": 10,
   "metadata": {},
   "outputs": [],
   "source": [
    "m = len(y_predicted)\n",
    "\n",
    "percent_error = np.abs((y - y_predicted) / y) * 100\n",
    "percent_error = percent_error[percent_error.y != float('inf')]\n"
   ]
  },
  {
   "cell_type": "code",
   "execution_count": 11,
   "metadata": {},
   "outputs": [],
   "source": [
    "mean_percent_err = np.nanmean(percent_error)\n",
    "# mean_percent_err_no_check = np.mean(percent_error)"
   ]
  },
  {
   "cell_type": "code",
   "execution_count": 12,
   "metadata": {},
   "outputs": [
    {
     "name": "stdout",
     "output_type": "stream",
     "text": [
      "21.80901597356068\n"
     ]
    }
   ],
   "source": [
    "print(mean_percent_err)\n",
    "# print(mean_percent_err_no_check)"
   ]
  },
  {
   "cell_type": "code",
   "execution_count": null,
   "metadata": {},
   "outputs": [],
   "source": []
  }
 ],
 "metadata": {
  "kernelspec": {
   "display_name": "cs297-fZk1rqQo",
   "language": "python",
   "name": "cs297-fzk1rqqo"
  },
  "language_info": {
   "codemirror_mode": {
    "name": "ipython",
    "version": 3
   },
   "file_extension": ".py",
   "mimetype": "text/x-python",
   "name": "python",
   "nbconvert_exporter": "python",
   "pygments_lexer": "ipython3",
   "version": "3.6.1"
  }
 },
 "nbformat": 4,
 "nbformat_minor": 2
}
