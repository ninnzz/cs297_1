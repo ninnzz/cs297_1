{
 "cells": [
  {
   "cell_type": "code",
   "execution_count": 51,
   "metadata": {},
   "outputs": [],
   "source": [
    "import numpy as np\n",
    "import pandas as pd\n",
    "from sklearn.neighbors import KNeighborsRegressor\n",
    "from sklearn.model_selection import train_test_split\n",
    "from sklearn.linear_model import RidgeCV\n",
    "from sklearn.model_selection import GridSearchCV"
   ]
  },
  {
   "cell_type": "code",
   "execution_count": 52,
   "metadata": {},
   "outputs": [],
   "source": [
    "EXAMPLE_1 = '../data/lec_7/Example1.csv'\n",
    "df = pd.read_csv(EXAMPLE_1)\n",
    "X = np.array(df['X1']).reshape(-1, 1)  # shape to Nx1 matrix\n",
    "y = df['Y']"
   ]
  },
  {
   "cell_type": "code",
   "execution_count": 53,
   "metadata": {},
   "outputs": [],
   "source": [
    "X_train, X_test, y_train, y_test = train_test_split(X, y, test_size=0.3, random_state=1234)"
   ]
  },
  {
   "cell_type": "code",
   "execution_count": 54,
   "metadata": {},
   "outputs": [],
   "source": [
    "reg = KNeighborsRegressor(n_neighbors=3).fit(X_train, y_train)"
   ]
  },
  {
   "cell_type": "code",
   "execution_count": 55,
   "metadata": {},
   "outputs": [
    {
     "name": "stdout",
     "output_type": "stream",
     "text": [
      "0.8075582424735319\n",
      "[-15.57333333  12.18        11.09333333  -6.23        -6.23\n",
      "  14.86      ]\n"
     ]
    }
   ],
   "source": [
    "y_pred = reg.predict(X_test)\n",
    "score = reg.score(X_test, y_test)\n",
    "\n",
    "print(score)\n",
    "print(y_pred)"
   ]
  },
  {
   "cell_type": "code",
   "execution_count": 56,
   "metadata": {},
   "outputs": [],
   "source": [
    "ks = range(1, len(X_train))"
   ]
  },
  {
   "cell_type": "code",
   "execution_count": 57,
   "metadata": {},
   "outputs": [
    {
     "name": "stdout",
     "output_type": "stream",
     "text": [
      "0.838697649240637 [9]\n"
     ]
    }
   ],
   "source": [
    "best = 0\n",
    "bk = 3\n",
    "scores = []\n",
    "for k in ks:\n",
    "    reg = KNeighborsRegressor(n_neighbors=k).fit(X_train, y_train)\n",
    "    score = reg.score(X_test, y_test)\n",
    "    # Its okay to just look at 1st instance\n",
    "    # because its less computation for K\n",
    "#     if score > best:\n",
    "#         best = score\n",
    "#         bk = k\n",
    "\n",
    "    scores.append(score)\n",
    "    \n",
    "print(max(scores), [i + 1 for i, s in enumerate(scores) if s == max(scores)])\n",
    "\n",
    "# print(f'K: {bk} score: {best}')"
   ]
  },
  {
   "cell_type": "markdown",
   "metadata": {},
   "source": [
    "### Cross validation"
   ]
  },
  {
   "cell_type": "code",
   "execution_count": 58,
   "metadata": {},
   "outputs": [],
   "source": [
    "_alphas = [0.01, 0.1, 10, 100]\n",
    "\n",
    "# cv is the folds\n",
    "reg = RidgeCV(alphas=_alphas, cv=5).fit(X_train, y_train)"
   ]
  },
  {
   "cell_type": "code",
   "execution_count": 59,
   "metadata": {},
   "outputs": [
    {
     "data": {
      "text/plain": [
       "10.0"
      ]
     },
     "execution_count": 59,
     "metadata": {},
     "output_type": "execute_result"
    }
   ],
   "source": [
    "# If cv is high, then best alpha becomes low, both cv and alpha are handling overfitting\n",
    "reg.alpha_"
   ]
  },
  {
   "cell_type": "code",
   "execution_count": 70,
   "metadata": {},
   "outputs": [
    {
     "data": {
      "text/plain": [
       "0.7643814471521779"
      ]
     },
     "execution_count": 70,
     "metadata": {},
     "output_type": "execute_result"
    }
   ],
   "source": [
    "# Gridsearch\n",
    "\n",
    "reg = KNeighborsRegressor()\n",
    "params = {'n_neighbors': range(1, 10)}\n",
    "\n",
    "# Looks for the best K\n",
    "model = GridSearchCV(reg, params, cv=3)\n",
    "model.fit(X_train, y_train)\n",
    "\n",
    "model.score(X_test, y_test)"
   ]
  },
  {
   "cell_type": "code",
   "execution_count": null,
   "metadata": {},
   "outputs": [],
   "source": []
  }
 ],
 "metadata": {
  "kernelspec": {
   "display_name": "cs297-fZk1rqQo",
   "language": "python",
   "name": "cs297-fzk1rqqo"
  },
  "language_info": {
   "codemirror_mode": {
    "name": "ipython",
    "version": 3
   },
   "file_extension": ".py",
   "mimetype": "text/x-python",
   "name": "python",
   "nbconvert_exporter": "python",
   "pygments_lexer": "ipython3",
   "version": "3.6.1"
  }
 },
 "nbformat": 4,
 "nbformat_minor": 2
}
