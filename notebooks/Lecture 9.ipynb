{
 "cells": [
  {
   "cell_type": "code",
   "execution_count": 19,
   "metadata": {},
   "outputs": [],
   "source": [
    "import pandas as pd\n",
    "import numpy as np\n",
    "from scipy.stats import entropy"
   ]
  },
  {
   "cell_type": "code",
   "execution_count": 20,
   "metadata": {},
   "outputs": [
    {
     "data": {
      "text/plain": [
       "1.0"
      ]
     },
     "execution_count": 20,
     "metadata": {},
     "output_type": "execute_result"
    }
   ],
   "source": [
    "X = [4, 4]\n",
    "entropy(X, base=2)"
   ]
  },
  {
   "cell_type": "code",
   "execution_count": 21,
   "metadata": {},
   "outputs": [],
   "source": [
    "EXAMPLE_1 = '../data/lec9/Example1.xlsx'\n",
    "tr_df = pd.read_excel(EXAMPLE_1, sheet_name='Train')"
   ]
  },
  {
   "cell_type": "code",
   "execution_count": 22,
   "metadata": {},
   "outputs": [
    {
     "data": {
      "text/html": [
       "<div>\n",
       "<style scoped>\n",
       "    .dataframe tbody tr th:only-of-type {\n",
       "        vertical-align: middle;\n",
       "    }\n",
       "\n",
       "    .dataframe tbody tr th {\n",
       "        vertical-align: top;\n",
       "    }\n",
       "\n",
       "    .dataframe thead th {\n",
       "        text-align: right;\n",
       "    }\n",
       "</style>\n",
       "<table border=\"1\" class=\"dataframe\">\n",
       "  <thead>\n",
       "    <tr style=\"text-align: right;\">\n",
       "      <th></th>\n",
       "      <th>Instance</th>\n",
       "      <th>Outlook</th>\n",
       "      <th>Temperature</th>\n",
       "      <th>Humidity</th>\n",
       "      <th>Windy</th>\n",
       "      <th>Play</th>\n",
       "    </tr>\n",
       "  </thead>\n",
       "  <tbody>\n",
       "    <tr>\n",
       "      <th>0</th>\n",
       "      <td>1</td>\n",
       "      <td>sunny</td>\n",
       "      <td>hot</td>\n",
       "      <td>high</td>\n",
       "      <td>False</td>\n",
       "      <td>no</td>\n",
       "    </tr>\n",
       "    <tr>\n",
       "      <th>1</th>\n",
       "      <td>2</td>\n",
       "      <td>sunny</td>\n",
       "      <td>hot</td>\n",
       "      <td>high</td>\n",
       "      <td>True</td>\n",
       "      <td>no</td>\n",
       "    </tr>\n",
       "    <tr>\n",
       "      <th>2</th>\n",
       "      <td>3</td>\n",
       "      <td>overcast</td>\n",
       "      <td>hot</td>\n",
       "      <td>high</td>\n",
       "      <td>False</td>\n",
       "      <td>yes</td>\n",
       "    </tr>\n",
       "    <tr>\n",
       "      <th>3</th>\n",
       "      <td>4</td>\n",
       "      <td>rainy</td>\n",
       "      <td>mild</td>\n",
       "      <td>high</td>\n",
       "      <td>False</td>\n",
       "      <td>yes</td>\n",
       "    </tr>\n",
       "    <tr>\n",
       "      <th>4</th>\n",
       "      <td>5</td>\n",
       "      <td>rainy</td>\n",
       "      <td>cool</td>\n",
       "      <td>normal</td>\n",
       "      <td>False</td>\n",
       "      <td>yes</td>\n",
       "    </tr>\n",
       "    <tr>\n",
       "      <th>5</th>\n",
       "      <td>6</td>\n",
       "      <td>rainy</td>\n",
       "      <td>cool</td>\n",
       "      <td>normal</td>\n",
       "      <td>True</td>\n",
       "      <td>no</td>\n",
       "    </tr>\n",
       "    <tr>\n",
       "      <th>6</th>\n",
       "      <td>7</td>\n",
       "      <td>overcast</td>\n",
       "      <td>cool</td>\n",
       "      <td>normal</td>\n",
       "      <td>True</td>\n",
       "      <td>yes</td>\n",
       "    </tr>\n",
       "    <tr>\n",
       "      <th>7</th>\n",
       "      <td>8</td>\n",
       "      <td>sunny</td>\n",
       "      <td>mild</td>\n",
       "      <td>high</td>\n",
       "      <td>False</td>\n",
       "      <td>no</td>\n",
       "    </tr>\n",
       "    <tr>\n",
       "      <th>8</th>\n",
       "      <td>9</td>\n",
       "      <td>sunny</td>\n",
       "      <td>cool</td>\n",
       "      <td>normal</td>\n",
       "      <td>False</td>\n",
       "      <td>yes</td>\n",
       "    </tr>\n",
       "    <tr>\n",
       "      <th>9</th>\n",
       "      <td>10</td>\n",
       "      <td>rainy</td>\n",
       "      <td>mild</td>\n",
       "      <td>normal</td>\n",
       "      <td>False</td>\n",
       "      <td>yes</td>\n",
       "    </tr>\n",
       "    <tr>\n",
       "      <th>10</th>\n",
       "      <td>11</td>\n",
       "      <td>sunny</td>\n",
       "      <td>mild</td>\n",
       "      <td>normal</td>\n",
       "      <td>True</td>\n",
       "      <td>yes</td>\n",
       "    </tr>\n",
       "    <tr>\n",
       "      <th>11</th>\n",
       "      <td>12</td>\n",
       "      <td>overcast</td>\n",
       "      <td>mild</td>\n",
       "      <td>high</td>\n",
       "      <td>True</td>\n",
       "      <td>yes</td>\n",
       "    </tr>\n",
       "    <tr>\n",
       "      <th>12</th>\n",
       "      <td>13</td>\n",
       "      <td>overcast</td>\n",
       "      <td>hot</td>\n",
       "      <td>normal</td>\n",
       "      <td>False</td>\n",
       "      <td>yes</td>\n",
       "    </tr>\n",
       "    <tr>\n",
       "      <th>13</th>\n",
       "      <td>14</td>\n",
       "      <td>rainy</td>\n",
       "      <td>mild</td>\n",
       "      <td>high</td>\n",
       "      <td>True</td>\n",
       "      <td>no</td>\n",
       "    </tr>\n",
       "  </tbody>\n",
       "</table>\n",
       "</div>"
      ],
      "text/plain": [
       "    Instance   Outlook Temperature Humidity  Windy Play\n",
       "0          1     sunny         hot     high  False   no\n",
       "1          2     sunny         hot     high   True   no\n",
       "2          3  overcast         hot     high  False  yes\n",
       "3          4     rainy        mild     high  False  yes\n",
       "4          5     rainy        cool   normal  False  yes\n",
       "5          6     rainy        cool   normal   True   no\n",
       "6          7  overcast        cool   normal   True  yes\n",
       "7          8     sunny        mild     high  False   no\n",
       "8          9     sunny        cool   normal  False  yes\n",
       "9         10     rainy        mild   normal  False  yes\n",
       "10        11     sunny        mild   normal   True  yes\n",
       "11        12  overcast        mild     high   True  yes\n",
       "12        13  overcast         hot   normal  False  yes\n",
       "13        14     rainy        mild     high   True   no"
      ]
     },
     "execution_count": 22,
     "metadata": {},
     "output_type": "execute_result"
    }
   ],
   "source": [
    "tr_df.head(20)"
   ]
  },
  {
   "cell_type": "code",
   "execution_count": 23,
   "metadata": {},
   "outputs": [
    {
     "data": {
      "text/plain": [
       "0.940285958670631"
      ]
     },
     "execution_count": 23,
     "metadata": {},
     "output_type": "execute_result"
    }
   ],
   "source": [
    "all_ent = entropy(tr_df['Play'].value_counts(), base=2)\n",
    "all_ent"
   ]
  },
  {
   "cell_type": "code",
   "execution_count": 24,
   "metadata": {},
   "outputs": [
    {
     "name": "stdout",
     "output_type": "stream",
     "text": [
      "Sunny: 0.9709505944546688\n",
      "Rainy: 0.9709505944546688\n",
      "Overcast: 0.0\n"
     ]
    }
   ],
   "source": [
    "sunny = tr_df[tr_df['Outlook'] == 'sunny']\n",
    "rainy = tr_df[tr_df['Outlook'] == 'rainy']\n",
    "overcast = tr_df[tr_df['Outlook'] == 'overcast']\n",
    "\n",
    "sunny_ent = entropy(sunny['Play'].value_counts(), base=2)\n",
    "rainy_ent = entropy(rainy['Play'].value_counts(), base=2)\n",
    "overcast_ent = entropy(overcast['Play'].value_counts(), base=2)\n",
    "\n",
    "print('Sunny:', sunny_ent)\n",
    "print('Rainy:', rainy_ent)\n",
    "print('Overcast:', overcast_ent)"
   ]
  },
  {
   "cell_type": "code",
   "execution_count": 25,
   "metadata": {},
   "outputs": [
    {
     "data": {
      "text/plain": [
       "0.6928571428571428"
      ]
     },
     "execution_count": 25,
     "metadata": {},
     "output_type": "execute_result"
    }
   ],
   "source": [
    "(5 * 0.97 + 5 * 0.97) / 14"
   ]
  },
  {
   "cell_type": "code",
   "execution_count": 26,
   "metadata": {},
   "outputs": [],
   "source": [
    "def get_ent(indx, all_ent, _df):\n",
    "    pivot = _df.pivot_table(index=indx, columns='Play', values='Instance', aggfunc='count', fill_value=0)\n",
    "    e = []\n",
    "    for i, row in pivot.iterrows():\n",
    "        e.append(entropy(row, base=2))\n",
    "\n",
    "    pivot['Entropy'] = e\n",
    "    pivot['sum'] = pivot['yes'] + pivot['no']\n",
    "    pivot['entropy*n'] = pivot['sum'] * pivot['Entropy']\n",
    "    ent = pivot['entropy*n'].sum() / pivot['sum'].sum()\n",
    "#     print(pivot)\n",
    "#     print('Entropy by {}: {}'.format(indx, ent))\n",
    "#     print('Information gain by {}: {}'.format(indx, (all_ent - ent)))\n",
    "#     print('\\n')\n",
    "    return ent"
   ]
  },
  {
   "cell_type": "code",
   "execution_count": 27,
   "metadata": {},
   "outputs": [
    {
     "name": "stdout",
     "output_type": "stream",
     "text": [
      "Attribute with highest information gain: Outlook, 0.246749819774439\n"
     ]
    }
   ],
   "source": [
    "feat = tr_df.columns[1: -1]\n",
    "_all_vars = [get_ent(x, all_ent, tr_df) for x in feat]\n",
    "\n",
    "_min_ent = min(_all_vars)\n",
    "\n",
    "print('Attribute with highest information gain: {}, {}'.format(\n",
    "    feat[_all_vars.index(_min_ent)], (all_ent - _min_ent)))"
   ]
  },
  {
   "cell_type": "code",
   "execution_count": 28,
   "metadata": {},
   "outputs": [
    {
     "name": "stdout",
     "output_type": "stream",
     "text": [
      "Attribute with highest information gain: Humidity, 0.9709505944546688\n"
     ]
    }
   ],
   "source": [
    "### Sunny branch\n",
    "_sunny_all_vars = [get_ent(x, all_ent, sunny) for x in feat]\n",
    "\n",
    "_sunny_min_ent = min(_sunny_all_vars)\n",
    "print('Attribute with highest information gain: {}, {}'.format(\n",
    "    feat[_sunny_all_vars.index(_sunny_min_ent)], (sunny_ent - _sunny_min_ent)))\n",
    "\n"
   ]
  },
  {
   "cell_type": "code",
   "execution_count": 29,
   "metadata": {},
   "outputs": [
    {
     "name": "stdout",
     "output_type": "stream",
     "text": [
      "Attribute with highest information gain: Windy, 0.9709505944546688\n"
     ]
    }
   ],
   "source": [
    "### Sunny branch\n",
    "_rainy_all_vars = [get_ent(x, all_ent, rainy) for x in feat]\n",
    "\n",
    "_rainy_min_ent = min(_rainy_all_vars)\n",
    "print('Attribute with highest information gain: {}, {}'.format(\n",
    "    feat[_rainy_all_vars.index(_rainy_min_ent)], (rainy_ent - _rainy_min_ent)))\n",
    "\n"
   ]
  },
  {
   "cell_type": "code",
   "execution_count": 40,
   "metadata": {},
   "outputs": [],
   "source": [
    "# Implementation\n",
    "\n",
    "import graphviz, pydot\n",
    "from sklearn import tree\n",
    "\n",
    "EXAMPLE_1 = '../data/lec9/Example1.xlsx'\n",
    "new_df = pd.read_excel(EXAMPLE_1, sheet_name='Train')\n",
    "\n",
    "# If the data is continous, USE VARIANCE as criterion\n",
    "# if categorical, use entropy or gini\n",
    "clf = tree.DecisionTreeClassifier(criterion='entropy')"
   ]
  },
  {
   "cell_type": "code",
   "execution_count": 31,
   "metadata": {},
   "outputs": [],
   "source": [
    "# Storage of conversions\n",
    "lbl_d = {}\n",
    "atts = new_df.columns[1:-1]\n",
    "\n",
    "num_df = pd.DataFrame(index=new_df.index)\n",
    "\n",
    "for _a in atts:\n",
    "    num_df[_a], lbl_d[_a] = pd.factorize(new_df[_a], sort=True)\n",
    "    \n",
    "num_df['Play'], lbl_d['Play'] = pd.factorize(new_df['Play'], sort=True)\n",
    "\n",
    "X = num_df[atts]\n",
    "y = num_df['Play']"
   ]
  },
  {
   "cell_type": "code",
   "execution_count": 37,
   "metadata": {},
   "outputs": [],
   "source": [
    "clf_app = clf.fit(X, y)"
   ]
  },
  {
   "cell_type": "code",
   "execution_count": 38,
   "metadata": {},
   "outputs": [],
   "source": [
    "dot_data = tree.export_graphviz(\n",
    "    clf_app, \n",
    "    out_file='tree.dot', \n",
    "    feature_names=atts, class_names=lbl_d['Play'])"
   ]
  },
  {
   "cell_type": "code",
   "execution_count": 39,
   "metadata": {},
   "outputs": [],
   "source": [
    "(graph, ) = pydot.graph_from_dot_file('tree.dot')\n",
    "graph.write_png('tree.png')"
   ]
  },
  {
   "cell_type": "code",
   "execution_count": null,
   "metadata": {},
   "outputs": [],
   "source": []
  }
 ],
 "metadata": {
  "kernelspec": {
   "display_name": "cs297-fZk1rqQo",
   "language": "python",
   "name": "cs297-fzk1rqqo"
  },
  "language_info": {
   "codemirror_mode": {
    "name": "ipython",
    "version": 3
   },
   "file_extension": ".py",
   "mimetype": "text/x-python",
   "name": "python",
   "nbconvert_exporter": "python",
   "pygments_lexer": "ipython3",
   "version": "3.6.1"
  }
 },
 "nbformat": 4,
 "nbformat_minor": 2
}
