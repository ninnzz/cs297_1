{
 "cells": [
  {
   "cell_type": "code",
   "execution_count": 63,
   "metadata": {},
   "outputs": [],
   "source": [
    "import pandas as pd\n",
    "import numpy as np\n",
    "from scipy.stats import entropy"
   ]
  },
  {
   "cell_type": "code",
   "execution_count": 64,
   "metadata": {},
   "outputs": [
    {
     "data": {
      "text/plain": [
       "1.0"
      ]
     },
     "execution_count": 64,
     "metadata": {},
     "output_type": "execute_result"
    }
   ],
   "source": [
    "X = [4, 4]\n",
    "entropy(X, base=2)"
   ]
  },
  {
   "cell_type": "code",
   "execution_count": 65,
   "metadata": {},
   "outputs": [],
   "source": [
    "EXAMPLE_1 = '../data/lec9/Example1.xlsx'\n",
    "tr_df = pd.read_excel(EXAMPLE_1, sheet_name='Train')"
   ]
  },
  {
   "cell_type": "code",
   "execution_count": 66,
   "metadata": {},
   "outputs": [
    {
     "data": {
      "text/html": [
       "<div>\n",
       "<style scoped>\n",
       "    .dataframe tbody tr th:only-of-type {\n",
       "        vertical-align: middle;\n",
       "    }\n",
       "\n",
       "    .dataframe tbody tr th {\n",
       "        vertical-align: top;\n",
       "    }\n",
       "\n",
       "    .dataframe thead th {\n",
       "        text-align: right;\n",
       "    }\n",
       "</style>\n",
       "<table border=\"1\" class=\"dataframe\">\n",
       "  <thead>\n",
       "    <tr style=\"text-align: right;\">\n",
       "      <th></th>\n",
       "      <th>Instance</th>\n",
       "      <th>Outlook</th>\n",
       "      <th>Temperature</th>\n",
       "      <th>Humidity</th>\n",
       "      <th>Windy</th>\n",
       "      <th>Play</th>\n",
       "    </tr>\n",
       "  </thead>\n",
       "  <tbody>\n",
       "    <tr>\n",
       "      <th>0</th>\n",
       "      <td>1</td>\n",
       "      <td>sunny</td>\n",
       "      <td>hot</td>\n",
       "      <td>high</td>\n",
       "      <td>False</td>\n",
       "      <td>no</td>\n",
       "    </tr>\n",
       "    <tr>\n",
       "      <th>1</th>\n",
       "      <td>2</td>\n",
       "      <td>sunny</td>\n",
       "      <td>hot</td>\n",
       "      <td>high</td>\n",
       "      <td>True</td>\n",
       "      <td>no</td>\n",
       "    </tr>\n",
       "    <tr>\n",
       "      <th>2</th>\n",
       "      <td>3</td>\n",
       "      <td>overcast</td>\n",
       "      <td>hot</td>\n",
       "      <td>high</td>\n",
       "      <td>False</td>\n",
       "      <td>yes</td>\n",
       "    </tr>\n",
       "    <tr>\n",
       "      <th>3</th>\n",
       "      <td>4</td>\n",
       "      <td>rainy</td>\n",
       "      <td>mild</td>\n",
       "      <td>high</td>\n",
       "      <td>False</td>\n",
       "      <td>yes</td>\n",
       "    </tr>\n",
       "    <tr>\n",
       "      <th>4</th>\n",
       "      <td>5</td>\n",
       "      <td>rainy</td>\n",
       "      <td>cool</td>\n",
       "      <td>normal</td>\n",
       "      <td>False</td>\n",
       "      <td>yes</td>\n",
       "    </tr>\n",
       "  </tbody>\n",
       "</table>\n",
       "</div>"
      ],
      "text/plain": [
       "   Instance   Outlook Temperature Humidity  Windy Play\n",
       "0         1     sunny         hot     high  False   no\n",
       "1         2     sunny         hot     high   True   no\n",
       "2         3  overcast         hot     high  False  yes\n",
       "3         4     rainy        mild     high  False  yes\n",
       "4         5     rainy        cool   normal  False  yes"
      ]
     },
     "execution_count": 66,
     "metadata": {},
     "output_type": "execute_result"
    }
   ],
   "source": [
    "tr_df.head()"
   ]
  },
  {
   "cell_type": "code",
   "execution_count": 121,
   "metadata": {},
   "outputs": [
    {
     "data": {
      "text/plain": [
       "0.940285958670631"
      ]
     },
     "execution_count": 121,
     "metadata": {},
     "output_type": "execute_result"
    }
   ],
   "source": [
    "all_ent = entropy(tr_df['Play'].value_counts(), base=2)\n",
    "all_ent"
   ]
  },
  {
   "cell_type": "code",
   "execution_count": 122,
   "metadata": {},
   "outputs": [
    {
     "name": "stdout",
     "output_type": "stream",
     "text": [
      "Sunny: 0.9709505944546688\n",
      "Rainy: 0.9709505944546688\n",
      "Overcast: 0.0\n"
     ]
    }
   ],
   "source": [
    "sunny = tr_df[tr_df['Outlook'] == 'sunny']\n",
    "rainy = tr_df[tr_df['Outlook'] == 'rainy']\n",
    "overcast = tr_df[tr_df['Outlook'] == 'overcast']\n",
    "\n",
    "print('Sunny:', entropy(sunny['Play'].value_counts(), base=2))\n",
    "print('Rainy:', entropy(rainy['Play'].value_counts(), base=2))\n",
    "print('Overcast:', entropy(overcast['Play'].value_counts(), base=2))"
   ]
  },
  {
   "cell_type": "code",
   "execution_count": 123,
   "metadata": {},
   "outputs": [
    {
     "data": {
      "text/plain": [
       "0.6928571428571428"
      ]
     },
     "execution_count": 123,
     "metadata": {},
     "output_type": "execute_result"
    }
   ],
   "source": [
    "(5 * 0.97 + 5 * 0.97) / 14"
   ]
  },
  {
   "cell_type": "code",
   "execution_count": 130,
   "metadata": {},
   "outputs": [],
   "source": [
    "def get_ent(indx, all_ent):\n",
    "    pivot = tr_df.pivot_table(index=indx, columns='Play', values='Instance', aggfunc='count', fill_value=0)\n",
    "    e = []\n",
    "    for i, row in pivot.iterrows():\n",
    "        e.append(entropy(row, base=2))\n",
    "\n",
    "    pivot['Entropy'] = e\n",
    "    pivot['sum'] = pivot['yes'] + pivot['no']\n",
    "    pivot['entropy*n'] = pivot['sum'] * pivot['Entropy']\n",
    "    ent = pivot['entropy*n'].sum() / pivot['sum'].sum()\n",
    "    print(pivot)\n",
    "    print('Entropy by {}: {}'.format(indx, ent))\n",
    "    print('Information gain by {}: {}'.format(indx, (all_ent - ent)))\n",
    "    print('\\n')\n",
    "    return ent"
   ]
  },
  {
   "cell_type": "code",
   "execution_count": 131,
   "metadata": {},
   "outputs": [
    {
     "name": "stdout",
     "output_type": "stream",
     "text": [
      "Play      no  yes   Entropy  sum  entropy*n\n",
      "Outlook                                    \n",
      "overcast   0    4  0.000000    4   0.000000\n",
      "rainy      2    3  0.970951    5   4.854753\n",
      "sunny      3    2  0.970951    5   4.854753\n",
      "Entropy by Outlook: 0.693536138896192\n",
      "Information gain by Outlook: 0.246749819774439\n",
      "\n",
      "\n",
      "Play         no  yes   Entropy  sum  entropy*n\n",
      "Temperature                                   \n",
      "cool          1    3  0.811278    4   3.245112\n",
      "hot           2    2  1.000000    4   4.000000\n",
      "mild          2    4  0.918296    6   5.509775\n",
      "Entropy by Temperature: 0.9110633930116763\n",
      "Information gain by Temperature: 0.029222565658954758\n",
      "\n",
      "\n",
      "Play      no  yes   Entropy  sum  entropy*n\n",
      "Humidity                                   \n",
      "high       4    3  0.985228    7   6.896597\n",
      "normal     1    6  0.591673    7   4.141709\n",
      "Entropy by Humidity: 0.7884504573082894\n",
      "Information gain by Humidity: 0.15183550136234159\n",
      "\n",
      "\n",
      "Play   no  yes   Entropy  sum  entropy*n\n",
      "Windy                                   \n",
      "False   2    6  0.811278    8   6.490225\n",
      "True    3    3  1.000000    6   6.000000\n",
      "Entropy by Windy: 0.8921589282623617\n",
      "Information gain by Windy: 0.04812703040826938\n",
      "\n",
      "\n",
      "Attribute with highest information gain: Outlook, 0.246749819774439\n"
     ]
    }
   ],
   "source": [
    "feat = tr_df.columns[1: -1]\n",
    "_all_vars = [get_ent(x, all_ent) for x in feat]\n",
    "\n",
    "_min_ent = min(_all_vars)\n",
    "\n",
    "print('Attribute with highest information gain: {}, {}'.format(feat[_all_vars.index(_min_ent)], (all_ent - _min_ent)))\n"
   ]
  },
  {
   "cell_type": "code",
   "execution_count": null,
   "metadata": {},
   "outputs": [],
   "source": []
  },
  {
   "cell_type": "code",
   "execution_count": null,
   "metadata": {},
   "outputs": [],
   "source": []
  }
 ],
 "metadata": {
  "kernelspec": {
   "display_name": "cs297-fZk1rqQo",
   "language": "python",
   "name": "cs297-fzk1rqqo"
  },
  "language_info": {
   "codemirror_mode": {
    "name": "ipython",
    "version": 3
   },
   "file_extension": ".py",
   "mimetype": "text/x-python",
   "name": "python",
   "nbconvert_exporter": "python",
   "pygments_lexer": "ipython3",
   "version": "3.6.1"
  }
 },
 "nbformat": 4,
 "nbformat_minor": 2
}
