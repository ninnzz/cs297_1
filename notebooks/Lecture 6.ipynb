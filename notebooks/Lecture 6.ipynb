{
 "cells": [
  {
   "cell_type": "code",
   "execution_count": 24,
   "metadata": {},
   "outputs": [],
   "source": [
    "import os\n",
    "import numpy as np\n",
    "import pandas as pd\n",
    "from sklearn import datasets\n",
    "from sklearn.model_selection import train_test_split\n",
    "from sklearn.naive_bayes import GaussianNB\n",
    "from sklearn.metrics import confusion_matrix # check how accurate"
   ]
  },
  {
   "cell_type": "markdown",
   "metadata": {},
   "source": [
    "#### Prereq\n",
    "\n",
    "Example cancer test\n",
    "\n",
    "99% positive, then cancer\n",
    "10% false positive\n",
    "5% of the population have cancer\n",
    "\n",
    "Give `P(cancer | positive)`"
   ]
  },
  {
   "cell_type": "code",
   "execution_count": 25,
   "metadata": {},
   "outputs": [],
   "source": [
    "TRAIN = '../data/lec_6/Example1_train.xlsx'\n",
    "TEST = '../data/lec_6/Example1_test.xlsx'\n",
    "train = pd.ExcelFile(TRAIN)\n",
    "test = pd.ExcelFile(TEST)"
   ]
  },
  {
   "cell_type": "code",
   "execution_count": 26,
   "metadata": {},
   "outputs": [],
   "source": [
    "X_train = train.parse('Features')\n",
    "y_train = train.parse('target')\n",
    "\n",
    "X_test = test.parse('Features')\n",
    "y_test = test.parse('target')"
   ]
  },
  {
   "cell_type": "code",
   "execution_count": 27,
   "metadata": {},
   "outputs": [
    {
     "name": "stderr",
     "output_type": "stream",
     "text": [
      "/Users/ninz/.local/share/virtualenvs/cs297-fZk1rqQo/lib/python3.6/site-packages/sklearn/utils/validation.py:761: DataConversionWarning: A column-vector y was passed when a 1d array was expected. Please change the shape of y to (n_samples, ), for example using ravel().\n",
      "  y = column_or_1d(y, warn=True)\n"
     ]
    }
   ],
   "source": [
    "clf = GaussianNB().fit(X_train, y_train)"
   ]
  },
  {
   "cell_type": "code",
   "execution_count": 28,
   "metadata": {},
   "outputs": [],
   "source": [
    "y_pre = clf.predict(X_test)"
   ]
  },
  {
   "cell_type": "code",
   "execution_count": 36,
   "metadata": {},
   "outputs": [
    {
     "name": "stdout",
     "output_type": "stream",
     "text": [
      "   Height (in.)  Weight (lbs.)\n",
      "0           143             69\n",
      "1           187             69\n",
      "2           186             64\n",
      "3           165             66\n",
      "4           197             70\n",
      "5           155             67\n",
      "6           134             66\n",
      "Accuracy: 1.0\n",
      "Confussion Matrix: [[4 0]\n",
      " [0 3]]\n",
      "Probability [[9.99998351e-01 1.64869490e-06]\n",
      " [2.51731644e-05 9.99974827e-01]\n",
      " [9.13363581e-05 9.99908664e-01]\n",
      " [7.88858286e-01 2.11141714e-01]\n",
      " [1.65171977e-07 9.99999835e-01]\n",
      " [9.98747152e-01 1.25284785e-03]\n",
      " [9.99999994e-01 5.64599397e-09]]\n"
     ]
    }
   ],
   "source": [
    "print(X_test)\n",
    "print('Accuracy:', clf.score(X_test, y_test))\n",
    "print('Confussion Matrix:', confusion_matrix(y_test, y_pre))\n",
    "print('Probability', clf.predict_proba(X_test))"
   ]
  },
  {
   "cell_type": "markdown",
   "metadata": {},
   "source": [
    "### HOMEWORK\n",
    "\n",
    "Do the same thing for the iris data set, split the test\n",
    "\n",
    "test_size = 0.3, random_state = 1"
   ]
  },
  {
   "cell_type": "code",
   "execution_count": 37,
   "metadata": {},
   "outputs": [],
   "source": [
    "# This is how we split training data\n",
    "iris = datasets.load_iris()\n",
    "X_iris = iris.data\n",
    "y_iris = iris.target\n",
    "\n",
    "X_train, X_test, y_train, y_test = train_test_split(X_iris, y_iris, test_size=0.3, random_state=1)"
   ]
  },
  {
   "cell_type": "code",
   "execution_count": 40,
   "metadata": {},
   "outputs": [],
   "source": [
    "clf_iris = GaussianNB().fit(X_train, y_train)\n",
    "y_pre = clf_iris.predict(X_test)"
   ]
  },
  {
   "cell_type": "code",
   "execution_count": 42,
   "metadata": {},
   "outputs": [
    {
     "name": "stdout",
     "output_type": "stream",
     "text": [
      "Accuracy: 0.9333333333333333\n",
      "Confussion Matrix: [[14  0  0]\n",
      " [ 0 16  2]\n",
      " [ 0  1 12]]\n",
      "Probability [[1.00000000e+000 7.30172724e-017 1.92698897e-023]\n",
      " [1.83127445e-031 9.99999349e-001 6.50949259e-007]\n",
      " [6.64026638e-099 9.71309470e-001 2.86905301e-002]\n",
      " [1.00000000e+000 4.50426332e-015 5.93894621e-022]\n",
      " [1.24729705e-266 1.50022255e-009 9.99999998e-001]\n",
      " [1.25848413e-120 4.97361143e-001 5.02638857e-001]\n",
      " [8.22548006e-192 6.90370263e-007 9.99999310e-001]\n",
      " [1.00000000e+000 3.05551312e-011 3.69926602e-018]\n",
      " [1.00000000e+000 1.34176387e-015 8.87395065e-023]\n",
      " [1.55475502e-229 2.00287031e-008 9.99999980e-001]\n",
      " [4.44110262e-082 9.99584753e-001 4.15247469e-004]\n",
      " [1.00000000e+000 8.14093994e-013 1.12264893e-019]\n",
      " [1.14065997e-230 2.17224776e-007 9.99999783e-001]\n",
      " [1.44834682e-106 8.84361311e-001 1.15638689e-001]\n",
      " [2.27759005e-105 9.66946340e-001 3.30536601e-002]\n",
      " [1.00000000e+000 2.98417907e-017 1.87295578e-024]\n",
      " [1.26088164e-070 9.99923670e-001 7.63296422e-005]\n",
      " [9.89241676e-104 9.75618268e-001 2.43817319e-002]\n",
      " [1.00000000e+000 6.22633347e-013 6.56696474e-020]\n",
      " [1.00000000e+000 6.63890281e-017 5.05492193e-024]\n",
      " [3.65198539e-087 9.99747933e-001 2.52067159e-004]\n",
      " [3.68284431e-103 9.80258703e-001 1.97412969e-002]\n",
      " [3.18341504e-145 4.59358350e-002 9.54064165e-001]\n",
      " [1.00000000e+000 2.82591244e-016 2.58974468e-023]\n",
      " [5.05976094e-219 7.33481114e-006 9.99992665e-001]\n",
      " [6.70809495e-078 9.99570944e-001 4.29055699e-004]\n",
      " [1.00000000e+000 7.67773744e-018 1.15093232e-024]\n",
      " [1.00000000e+000 4.98462631e-016 5.51250415e-023]\n",
      " [1.59004950e-103 9.96022888e-001 3.97711189e-003]\n",
      " [5.16423154e-155 2.56995890e-002 9.74300411e-001]\n",
      " [4.62812296e-106 9.73894566e-001 2.61054338e-002]\n",
      " [1.03683864e-264 2.39773530e-010 1.00000000e+000]\n",
      " [1.49163595e-062 9.99986479e-001 1.35209710e-005]\n",
      " [1.36177973e-205 1.13704449e-005 9.99988630e-001]\n",
      " [1.53056782e-193 1.54810714e-006 9.99998452e-001]\n",
      " [1.00000000e+000 1.81274380e-016 2.73823928e-023]\n",
      " [5.02341335e-074 9.99959144e-001 4.08560547e-005]\n",
      " [1.00000000e+000 1.97422939e-016 2.20675816e-023]\n",
      " [8.71799029e-113 9.07917329e-001 9.20826706e-002]\n",
      " [7.84796279e-202 5.87068297e-004 9.99412932e-001]\n",
      " [1.95613688e-201 5.14258706e-006 9.99994857e-001]\n",
      " [1.00000000e+000 9.56176015e-016 9.24160376e-023]\n",
      " [2.17080010e-132 9.70110757e-001 2.98892434e-002]\n",
      " [1.22350919e-185 1.31028189e-003 9.98689718e-001]\n",
      " [1.34758952e-104 9.79637678e-001 2.03623216e-002]]\n"
     ]
    }
   ],
   "source": [
    "print('Accuracy:', clf_iris.score(X_test, y_test))\n",
    "print('Confussion Matrix:', confusion_matrix(y_test, y_pre))\n",
    "print('Probability', clf_iris.predict_proba(X_test))"
   ]
  },
  {
   "cell_type": "code",
   "execution_count": null,
   "metadata": {},
   "outputs": [],
   "source": []
  }
 ],
 "metadata": {
  "kernelspec": {
   "display_name": "cs297-fZk1rqQo",
   "language": "python",
   "name": "cs297-fzk1rqqo"
  },
  "language_info": {
   "codemirror_mode": {
    "name": "ipython",
    "version": 3
   },
   "file_extension": ".py",
   "mimetype": "text/x-python",
   "name": "python",
   "nbconvert_exporter": "python",
   "pygments_lexer": "ipython3",
   "version": "3.6.1"
  }
 },
 "nbformat": 4,
 "nbformat_minor": 2
}
