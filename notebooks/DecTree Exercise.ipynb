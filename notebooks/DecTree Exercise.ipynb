{
 "cells": [
  {
   "cell_type": "code",
   "execution_count": 63,
   "metadata": {},
   "outputs": [],
   "source": [
    "import pandas as pd\n",
    "import numpy as np\n",
    "import graphviz, pydot\n",
    "from scipy.stats import entropy\n",
    "from sklearn import tree"
   ]
  },
  {
   "cell_type": "code",
   "execution_count": 64,
   "metadata": {},
   "outputs": [],
   "source": [
    "EXAMPLE_1 = '../data/lec10/Exercise1.xlsx'\n",
    "new_df = pd.read_excel(EXAMPLE_1)"
   ]
  },
  {
   "cell_type": "code",
   "execution_count": 65,
   "metadata": {},
   "outputs": [],
   "source": [
    "clf = tree.DecisionTreeClassifier(criterion='entropy')"
   ]
  },
  {
   "cell_type": "code",
   "execution_count": 66,
   "metadata": {},
   "outputs": [],
   "source": [
    "lbl_d = {}\n",
    "atts = new_df.columns[1:-1]\n",
    "\n",
    "num_df = pd.DataFrame(index=new_df.index)\n",
    "\n",
    "for _a in atts:\n",
    "    num_df[_a], lbl_d[_a] = pd.factorize(new_df[_a], sort=True)\n",
    "    \n",
    "num_df['Sentiment'], lbl_d['Sentiment'] = pd.factorize(new_df['Sentiment'], sort=True)\n",
    "\n",
    "X = num_df[atts]\n",
    "y = num_df['Sentiment']\n",
    "\n",
    "clf_app = clf.fit(X, y)"
   ]
  },
  {
   "cell_type": "code",
   "execution_count": 67,
   "metadata": {},
   "outputs": [],
   "source": [
    "dot_data = tree.export_graphviz(\n",
    "    clf_app, \n",
    "    out_file='tree2.dot', \n",
    "    feature_names=atts, class_names=lbl_d['Sentiment'])"
   ]
  },
  {
   "cell_type": "code",
   "execution_count": 68,
   "metadata": {},
   "outputs": [],
   "source": [
    "(graph, ) = pydot.graph_from_dot_file('tree2.dot')\n",
    "graph.write_png('tree2.png')"
   ]
  },
  {
   "cell_type": "code",
   "execution_count": 79,
   "metadata": {},
   "outputs": [
    {
     "data": {
      "text/plain": [
       "0.9940302114769566"
      ]
     },
     "execution_count": 79,
     "metadata": {},
     "output_type": "execute_result"
    }
   ],
   "source": [
    "new_df.reset_index(inplace=True)\n",
    "all_ent = entropy(new_df['Sentiment'].value_counts(), base=2)\n",
    "all_ent"
   ]
  },
  {
   "cell_type": "code",
   "execution_count": 70,
   "metadata": {},
   "outputs": [],
   "source": [
    "def get_ent(indx, all_ent, _df):\n",
    "    pivot = _df.pivot_table(index=indx, columns='Sentiment', values='index', aggfunc='count', fill_value=0)\n",
    "    e = []\n",
    "    for i, row in pivot.iterrows():\n",
    "        e.append(entropy(row, base=2))\n",
    "\n",
    "    pivot['Entropy'] = e\n",
    "    pivot['sum'] = pivot['positive'] + pivot['negative']\n",
    "    pivot['entropy*n'] = pivot['sum'] * pivot['Entropy']\n",
    "    ent = pivot['entropy*n'].sum() / pivot['sum'].sum()\n",
    "    print(pivot)\n",
    "    print('Entropy by {}: {}'.format(indx, ent))\n",
    "    print('Information gain by {}: {}'.format(indx, (all_ent - ent)))\n",
    "    print('\\n')\n",
    "    return ent"
   ]
  },
  {
   "cell_type": "code",
   "execution_count": 71,
   "metadata": {},
   "outputs": [
    {
     "name": "stdout",
     "output_type": "stream",
     "text": [
      "Sentiment  negative  positive   Entropy  sum  entropy*n\n",
      "Gender                                                 \n",
      "female            2         4  0.918296    6   5.509775\n",
      "male              3         2  0.970951    5   4.854753\n",
      "Entropy by Gender: 0.9422298160545709\n",
      "Information gain by Gender: 0.05180039542238568\n",
      "\n",
      "\n",
      "Sentiment  negative  positive   Entropy  sum  entropy*n\n",
      "Age                                                    \n",
      "old               5         3  0.954434    8   7.635472\n",
      "young             0         3  0.000000    3   0.000000\n",
      "Entropy by Age: 0.6941338203090655\n",
      "Information gain by Age: 0.29989639116789113\n",
      "\n",
      "\n",
      "Sentiment   negative  positive   Entropy  sum  entropy*n\n",
      "Department                                              \n",
      "A                  3         2  0.970951    5   4.854753\n",
      "B                  2         4  0.918296    6   5.509775\n",
      "Entropy by Department: 0.9422298160545709\n",
      "Information gain by Department: 0.05180039542238568\n",
      "\n",
      "\n",
      "Attribute with highest information gain: Age, 0.29989639116789113\n"
     ]
    }
   ],
   "source": [
    "feat = new_df.columns[1:-1]\n",
    "\n",
    "_all_vars = [get_ent(x, all_ent, new_df) for x in feat]\n",
    "\n",
    "_min_ent = min(_all_vars)\n",
    "\n",
    "print('Attribute with highest information gain: {}, {}'.format(\n",
    "    feat[_all_vars.index(_min_ent)], (all_ent - _min_ent)))"
   ]
  },
  {
   "cell_type": "code",
   "execution_count": 72,
   "metadata": {},
   "outputs": [],
   "source": [
    "young = new_df[new_df['Age'] == 'young']\n",
    "old = new_df[new_df['Age'] == 'old']"
   ]
  },
  {
   "cell_type": "code",
   "execution_count": 73,
   "metadata": {},
   "outputs": [
    {
     "name": "stdout",
     "output_type": "stream",
     "text": [
      "Sentiment  negative  positive   Entropy  sum  entropy*n\n",
      "Gender                                                 \n",
      "female            2         2  1.000000    4   4.000000\n",
      "male              3         1  0.811278    4   3.245112\n",
      "Entropy by Gender: 0.9056390622295665\n",
      "Information gain by Gender: 0.08839114924739011\n",
      "\n",
      "\n",
      "Sentiment  negative  positive   Entropy  sum  entropy*n\n",
      "Age                                                    \n",
      "old               5         3  0.954434    8   7.635472\n",
      "Entropy by Age: 0.954434002924965\n",
      "Information gain by Age: 0.03959620855199153\n",
      "\n",
      "\n",
      "Sentiment   negative  positive   Entropy  sum  entropy*n\n",
      "Department                                              \n",
      "A                  3         0  0.000000    3   0.000000\n",
      "B                  2         3  0.970951    5   4.854753\n",
      "Entropy by Department: 0.606844121534168\n",
      "Information gain by Department: 0.3871860899427886\n",
      "\n",
      "\n",
      "Attribute with highest information gain: Department, 0.34758988139079705\n"
     ]
    }
   ],
   "source": [
    "_old_vars = [get_ent(x, all_ent, old) for x in feat]\n",
    "\n",
    "_old_min_ent = min(_old_vars)\n",
    "old_ent = entropy(old['Sentiment'].value_counts(), base=2)\n",
    "\n",
    "print('Attribute with highest information gain: {}, {}'.format(\n",
    "    feat[_old_vars.index(_old_min_ent)], (old_ent - _old_min_ent)))"
   ]
  },
  {
   "cell_type": "code",
   "execution_count": 74,
   "metadata": {},
   "outputs": [
    {
     "data": {
      "text/html": [
       "<div>\n",
       "<style scoped>\n",
       "    .dataframe tbody tr th:only-of-type {\n",
       "        vertical-align: middle;\n",
       "    }\n",
       "\n",
       "    .dataframe tbody tr th {\n",
       "        vertical-align: top;\n",
       "    }\n",
       "\n",
       "    .dataframe thead th {\n",
       "        text-align: right;\n",
       "    }\n",
       "</style>\n",
       "<table border=\"1\" class=\"dataframe\">\n",
       "  <thead>\n",
       "    <tr style=\"text-align: right;\">\n",
       "      <th></th>\n",
       "      <th>index</th>\n",
       "      <th>Gender</th>\n",
       "      <th>Age</th>\n",
       "      <th>Department</th>\n",
       "      <th>Sentiment</th>\n",
       "    </tr>\n",
       "  </thead>\n",
       "  <tbody>\n",
       "    <tr>\n",
       "      <th>3</th>\n",
       "      <td>3</td>\n",
       "      <td>female</td>\n",
       "      <td>old</td>\n",
       "      <td>B</td>\n",
       "      <td>positive</td>\n",
       "    </tr>\n",
       "    <tr>\n",
       "      <th>5</th>\n",
       "      <td>5</td>\n",
       "      <td>female</td>\n",
       "      <td>old</td>\n",
       "      <td>B</td>\n",
       "      <td>positive</td>\n",
       "    </tr>\n",
       "    <tr>\n",
       "      <th>8</th>\n",
       "      <td>8</td>\n",
       "      <td>male</td>\n",
       "      <td>old</td>\n",
       "      <td>B</td>\n",
       "      <td>negative</td>\n",
       "    </tr>\n",
       "    <tr>\n",
       "      <th>9</th>\n",
       "      <td>9</td>\n",
       "      <td>male</td>\n",
       "      <td>old</td>\n",
       "      <td>B</td>\n",
       "      <td>positive</td>\n",
       "    </tr>\n",
       "    <tr>\n",
       "      <th>10</th>\n",
       "      <td>10</td>\n",
       "      <td>female</td>\n",
       "      <td>old</td>\n",
       "      <td>B</td>\n",
       "      <td>negative</td>\n",
       "    </tr>\n",
       "  </tbody>\n",
       "</table>\n",
       "</div>"
      ],
      "text/plain": [
       "    index  Gender  Age Department Sentiment\n",
       "3       3  female  old          B  positive\n",
       "5       5  female  old          B  positive\n",
       "8       8    male  old          B  negative\n",
       "9       9    male  old          B  positive\n",
       "10     10  female  old          B  negative"
      ]
     },
     "execution_count": 74,
     "metadata": {},
     "output_type": "execute_result"
    }
   ],
   "source": [
    "A = old[old['Department'] == 'A']\n",
    "B = old[old['Department'] == 'B']\n",
    "\n",
    "B"
   ]
  },
  {
   "cell_type": "code",
   "execution_count": 75,
   "metadata": {},
   "outputs": [],
   "source": [
    "# A_ent = entropy(A['Sentiment'].value_counts(), base=2)\n",
    "\n",
    "# _A_vars = [get_ent(x,  all_ent, A) for x in feat]\n",
    "\n",
    "# _A_min_ent = min(_A_vars)\n",
    "\n",
    "# print('Attribute with highest information gain: {}, {}'.format(\n",
    "#     feat[_A_vars.index(_A_min_ent)], (A_ent - _A_min_ent)))"
   ]
  },
  {
   "cell_type": "code",
   "execution_count": 76,
   "metadata": {},
   "outputs": [
    {
     "name": "stdout",
     "output_type": "stream",
     "text": [
      "Sentiment  negative  positive   Entropy  sum  entropy*n\n",
      "Gender                                                 \n",
      "female            1         2  0.918296    3   2.754888\n",
      "male              1         1  1.000000    2   2.000000\n",
      "Entropy by Gender: 0.9509775004326937\n",
      "Information gain by Gender: 0.04305271104426289\n",
      "\n",
      "\n",
      "Sentiment  negative  positive   Entropy  sum  entropy*n\n",
      "Age                                                    \n",
      "old               2         3  0.970951    5   4.854753\n",
      "Entropy by Age: 0.9709505944546688\n",
      "Information gain by Age: 0.02307961702228778\n",
      "\n",
      "\n",
      "Sentiment   negative  positive   Entropy  sum  entropy*n\n",
      "Department                                              \n",
      "B                  2         3  0.970951    5   4.854753\n",
      "Entropy by Department: 0.9709505944546688\n",
      "Information gain by Department: 0.02307961702228778\n",
      "\n",
      "\n",
      "Attribute with highest information gain: Gender, 0.019973094021975113\n"
     ]
    }
   ],
   "source": [
    "B_ent = entropy(B['Sentiment'].value_counts(), base=2)\n",
    "\n",
    "_B_vars = [get_ent(x,  all_ent, B) for x in feat]\n",
    "\n",
    "_B_min_ent = min(_B_vars)\n",
    "\n",
    "print('Attribute with highest information gain: {}, {}'.format(\n",
    "    feat[_B_vars.index(_B_min_ent)], (B_ent - _B_min_ent)))"
   ]
  },
  {
   "cell_type": "code",
   "execution_count": 77,
   "metadata": {},
   "outputs": [
    {
     "data": {
      "text/html": [
       "<div>\n",
       "<style scoped>\n",
       "    .dataframe tbody tr th:only-of-type {\n",
       "        vertical-align: middle;\n",
       "    }\n",
       "\n",
       "    .dataframe tbody tr th {\n",
       "        vertical-align: top;\n",
       "    }\n",
       "\n",
       "    .dataframe thead th {\n",
       "        text-align: right;\n",
       "    }\n",
       "</style>\n",
       "<table border=\"1\" class=\"dataframe\">\n",
       "  <thead>\n",
       "    <tr style=\"text-align: right;\">\n",
       "      <th></th>\n",
       "      <th>index</th>\n",
       "      <th>Gender</th>\n",
       "      <th>Age</th>\n",
       "      <th>Department</th>\n",
       "      <th>Sentiment</th>\n",
       "    </tr>\n",
       "  </thead>\n",
       "  <tbody>\n",
       "    <tr>\n",
       "      <th>4</th>\n",
       "      <td>4</td>\n",
       "      <td>male</td>\n",
       "      <td>old</td>\n",
       "      <td>A</td>\n",
       "      <td>negative</td>\n",
       "    </tr>\n",
       "    <tr>\n",
       "      <th>6</th>\n",
       "      <td>6</td>\n",
       "      <td>male</td>\n",
       "      <td>old</td>\n",
       "      <td>A</td>\n",
       "      <td>negative</td>\n",
       "    </tr>\n",
       "    <tr>\n",
       "      <th>7</th>\n",
       "      <td>7</td>\n",
       "      <td>female</td>\n",
       "      <td>old</td>\n",
       "      <td>A</td>\n",
       "      <td>negative</td>\n",
       "    </tr>\n",
       "  </tbody>\n",
       "</table>\n",
       "</div>"
      ],
      "text/plain": [
       "   index  Gender  Age Department Sentiment\n",
       "4      4    male  old          A  negative\n",
       "6      6    male  old          A  negative\n",
       "7      7  female  old          A  negative"
      ]
     },
     "execution_count": 77,
     "metadata": {},
     "output_type": "execute_result"
    }
   ],
   "source": [
    "A"
   ]
  },
  {
   "cell_type": "code",
   "execution_count": 78,
   "metadata": {},
   "outputs": [
    {
     "data": {
      "text/html": [
       "<div>\n",
       "<style scoped>\n",
       "    .dataframe tbody tr th:only-of-type {\n",
       "        vertical-align: middle;\n",
       "    }\n",
       "\n",
       "    .dataframe tbody tr th {\n",
       "        vertical-align: top;\n",
       "    }\n",
       "\n",
       "    .dataframe thead th {\n",
       "        text-align: right;\n",
       "    }\n",
       "</style>\n",
       "<table border=\"1\" class=\"dataframe\">\n",
       "  <thead>\n",
       "    <tr style=\"text-align: right;\">\n",
       "      <th></th>\n",
       "      <th>index</th>\n",
       "      <th>Gender</th>\n",
       "      <th>Age</th>\n",
       "      <th>Department</th>\n",
       "      <th>Sentiment</th>\n",
       "    </tr>\n",
       "  </thead>\n",
       "  <tbody>\n",
       "    <tr>\n",
       "      <th>3</th>\n",
       "      <td>3</td>\n",
       "      <td>female</td>\n",
       "      <td>old</td>\n",
       "      <td>B</td>\n",
       "      <td>positive</td>\n",
       "    </tr>\n",
       "    <tr>\n",
       "      <th>5</th>\n",
       "      <td>5</td>\n",
       "      <td>female</td>\n",
       "      <td>old</td>\n",
       "      <td>B</td>\n",
       "      <td>positive</td>\n",
       "    </tr>\n",
       "    <tr>\n",
       "      <th>8</th>\n",
       "      <td>8</td>\n",
       "      <td>male</td>\n",
       "      <td>old</td>\n",
       "      <td>B</td>\n",
       "      <td>negative</td>\n",
       "    </tr>\n",
       "    <tr>\n",
       "      <th>9</th>\n",
       "      <td>9</td>\n",
       "      <td>male</td>\n",
       "      <td>old</td>\n",
       "      <td>B</td>\n",
       "      <td>positive</td>\n",
       "    </tr>\n",
       "    <tr>\n",
       "      <th>10</th>\n",
       "      <td>10</td>\n",
       "      <td>female</td>\n",
       "      <td>old</td>\n",
       "      <td>B</td>\n",
       "      <td>negative</td>\n",
       "    </tr>\n",
       "  </tbody>\n",
       "</table>\n",
       "</div>"
      ],
      "text/plain": [
       "    index  Gender  Age Department Sentiment\n",
       "3       3  female  old          B  positive\n",
       "5       5  female  old          B  positive\n",
       "8       8    male  old          B  negative\n",
       "9       9    male  old          B  positive\n",
       "10     10  female  old          B  negative"
      ]
     },
     "execution_count": 78,
     "metadata": {},
     "output_type": "execute_result"
    }
   ],
   "source": [
    "B"
   ]
  },
  {
   "cell_type": "code",
   "execution_count": null,
   "metadata": {},
   "outputs": [],
   "source": []
  }
 ],
 "metadata": {
  "kernelspec": {
   "display_name": "cs297-fZk1rqQo",
   "language": "python",
   "name": "cs297-fzk1rqqo"
  },
  "language_info": {
   "codemirror_mode": {
    "name": "ipython",
    "version": 3
   },
   "file_extension": ".py",
   "mimetype": "text/x-python",
   "name": "python",
   "nbconvert_exporter": "python",
   "pygments_lexer": "ipython3",
   "version": "3.6.1"
  }
 },
 "nbformat": 4,
 "nbformat_minor": 2
}
