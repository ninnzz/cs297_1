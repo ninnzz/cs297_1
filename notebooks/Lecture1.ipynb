{
 "cells": [
  {
   "cell_type": "markdown",
   "metadata": {},
   "source": [
    "### KMeans"
   ]
  },
  {
   "cell_type": "code",
   "execution_count": 55,
   "metadata": {},
   "outputs": [],
   "source": [
    "import numpy as np\n",
    "import pandas as pd\n",
    "\n",
    "from operator import itemgetter\n",
    "\n",
    "from sklearn.cluster import KMeans\n",
    "from sklearn.decomposition import PCA\n",
    "from sklearn.metrics import silhouette_score\n",
    "\n",
    "from matplotlib import cm\n",
    "from matplotlib import pyplot as plt\n",
    "\n",
    "%matplotlib inline"
   ]
  },
  {
   "cell_type": "code",
   "execution_count": 2,
   "metadata": {},
   "outputs": [
    {
     "data": {
      "text/html": [
       "<div>\n",
       "<style scoped>\n",
       "    .dataframe tbody tr th:only-of-type {\n",
       "        vertical-align: middle;\n",
       "    }\n",
       "\n",
       "    .dataframe tbody tr th {\n",
       "        vertical-align: top;\n",
       "    }\n",
       "\n",
       "    .dataframe thead th {\n",
       "        text-align: right;\n",
       "    }\n",
       "</style>\n",
       "<table border=\"1\" class=\"dataframe\">\n",
       "  <thead>\n",
       "    <tr style=\"text-align: right;\">\n",
       "      <th></th>\n",
       "      <th>A</th>\n",
       "      <th>B</th>\n",
       "    </tr>\n",
       "  </thead>\n",
       "  <tbody>\n",
       "    <tr>\n",
       "      <th>0</th>\n",
       "      <td>6.371097</td>\n",
       "      <td>0.982594</td>\n",
       "    </tr>\n",
       "    <tr>\n",
       "      <th>1</th>\n",
       "      <td>-3.472607</td>\n",
       "      <td>2.005099</td>\n",
       "    </tr>\n",
       "    <tr>\n",
       "      <th>2</th>\n",
       "      <td>-0.316587</td>\n",
       "      <td>4.570838</td>\n",
       "    </tr>\n",
       "    <tr>\n",
       "      <th>3</th>\n",
       "      <td>6.336829</td>\n",
       "      <td>-0.284369</td>\n",
       "    </tr>\n",
       "    <tr>\n",
       "      <th>4</th>\n",
       "      <td>-1.227194</td>\n",
       "      <td>7.934914</td>\n",
       "    </tr>\n",
       "  </tbody>\n",
       "</table>\n",
       "</div>"
      ],
      "text/plain": [
       "          A         B\n",
       "0  6.371097  0.982594\n",
       "1 -3.472607  2.005099\n",
       "2 -0.316587  4.570838\n",
       "3  6.336829 -0.284369\n",
       "4 -1.227194  7.934914"
      ]
     },
     "execution_count": 2,
     "metadata": {},
     "output_type": "execute_result"
    }
   ],
   "source": [
    "df = pd.read_csv('../data/Example1.csv',sep='\\t')\n",
    "df.head(5)"
   ]
  },
  {
   "cell_type": "code",
   "execution_count": 3,
   "metadata": {},
   "outputs": [],
   "source": [
    "# clusters\n",
    "n_clus = 3\n",
    "km = KMeans(n_clusters=n_clus, n_init=50, tol=1e-10, random_state=1234).fit(df)"
   ]
  },
  {
   "cell_type": "code",
   "execution_count": 4,
   "metadata": {},
   "outputs": [
    {
     "data": {
      "text/plain": [
       "array([[ 0.17731668,  8.05606575],\n",
       "       [ 7.69052045, -0.99142574],\n",
       "       [ 0.38313488,  2.49454399]])"
      ]
     },
     "execution_count": 4,
     "metadata": {},
     "output_type": "execute_result"
    }
   ],
   "source": [
    "centers = km.cluster_centers_\n",
    "centers"
   ]
  },
  {
   "cell_type": "code",
   "execution_count": 5,
   "metadata": {},
   "outputs": [
    {
     "data": {
      "text/plain": [
       "array([1, 2, 2, 1, 0, 2, 1, 0, 2, 0, 1, 2, 1, 2, 1, 0, 1, 2, 2, 2, 2, 1,\n",
       "       1, 0, 1, 0, 2, 1, 0, 2, 2, 2, 1, 0, 1, 1, 2, 0, 1, 1, 0, 2, 2, 2,\n",
       "       0, 2, 2, 1, 0, 2, 0, 0, 2, 2, 1, 1, 1, 1, 2, 2, 2, 0, 1, 0, 0, 1,\n",
       "       1, 0, 2, 1, 1, 1, 0, 2, 2, 0, 0, 0, 2, 1, 1, 1, 0, 1, 1, 2, 2, 0,\n",
       "       2, 1, 2, 2, 0, 1, 1, 1, 2, 1, 1, 2, 1, 2, 2, 0, 2, 2, 1, 0, 0, 2,\n",
       "       2, 1, 0, 1, 1, 2, 2, 0, 2, 1, 2, 0, 2, 0, 1, 0, 2, 2, 0, 1, 2, 2,\n",
       "       0, 1, 0, 1, 2, 0, 2, 0, 0, 2, 0, 0, 2, 2, 2, 0, 0, 0, 2, 2, 2, 1,\n",
       "       0, 1, 1, 0, 1, 0, 2, 0, 0, 0, 1, 2, 2, 0, 0, 1, 1, 2, 1, 2, 0, 2,\n",
       "       1, 2, 0, 2, 2, 1, 1, 2, 0, 0, 2, 2, 0, 1, 0, 0, 0, 1, 2, 0, 0, 1,\n",
       "       2, 2, 2, 0, 2, 1, 2, 2, 0, 0, 0, 1, 1, 1, 1, 2, 0, 1, 1, 1, 2, 1,\n",
       "       2, 2, 0, 0, 0, 2, 0, 0, 2, 1, 2, 2, 1, 2, 2, 1, 1, 2, 0, 2, 2, 1,\n",
       "       2, 2, 1, 1, 2, 1, 2, 1, 1, 0, 2, 0, 2, 2, 0, 2, 2, 0, 1, 1, 0, 2,\n",
       "       0, 1, 1, 2, 1, 2, 2, 0, 2, 0, 2, 0, 0, 1, 1, 2, 2, 2, 2, 1, 2, 1,\n",
       "       1, 1, 2, 2, 0, 2, 2, 2, 1, 2, 1, 1, 2, 0, 1, 2, 0, 0, 2, 2, 0, 0,\n",
       "       2, 2, 2, 1, 2, 0, 2, 2, 2, 2, 1, 0, 0, 2, 0, 0, 2, 2, 0, 2, 1, 2,\n",
       "       0, 2, 2, 0, 0, 2, 2, 2, 2, 2, 0, 1, 1, 0, 0, 1, 1, 1, 2, 0, 0, 0,\n",
       "       2, 1, 0, 0, 2, 2, 2, 2, 2, 0, 2, 2, 2, 2, 2, 2, 0, 2, 2, 2, 0, 1,\n",
       "       2, 0, 1, 2, 0, 1, 1, 0, 0, 2, 1, 2, 2, 1, 1, 2, 0, 0, 0, 2, 2, 1,\n",
       "       0, 1, 1, 0, 2, 1, 0, 2, 0, 2, 2, 0, 1, 0, 2, 0, 1, 0, 1, 2, 1, 0,\n",
       "       2, 2, 1, 2, 0, 1, 2, 1, 2, 1, 0, 2, 0, 0, 0, 2, 2, 1, 1, 2, 0, 2,\n",
       "       1, 2, 2, 2, 0, 1, 2, 2, 0, 0, 0, 0, 2, 2, 0, 0, 2, 1, 2, 2, 1, 0,\n",
       "       2, 2, 2, 0, 1, 1, 0, 0, 0, 0, 1, 2, 1, 2, 0, 2, 0, 1, 1, 0, 1, 2,\n",
       "       1, 0, 2, 0, 1, 2, 1, 1, 1, 0, 1, 2, 2, 2, 0, 1], dtype=int32)"
      ]
     },
     "execution_count": 5,
     "metadata": {},
     "output_type": "execute_result"
    }
   ],
   "source": [
    "labels = km.predict(df)\n",
    "labels"
   ]
  },
  {
   "cell_type": "code",
   "execution_count": 6,
   "metadata": {},
   "outputs": [
    {
     "data": {
      "text/html": [
       "<div>\n",
       "<style scoped>\n",
       "    .dataframe tbody tr th:only-of-type {\n",
       "        vertical-align: middle;\n",
       "    }\n",
       "\n",
       "    .dataframe tbody tr th {\n",
       "        vertical-align: top;\n",
       "    }\n",
       "\n",
       "    .dataframe thead th {\n",
       "        text-align: right;\n",
       "    }\n",
       "</style>\n",
       "<table border=\"1\" class=\"dataframe\">\n",
       "  <thead>\n",
       "    <tr style=\"text-align: right;\">\n",
       "      <th></th>\n",
       "      <th>A</th>\n",
       "      <th>B</th>\n",
       "      <th>Label</th>\n",
       "    </tr>\n",
       "  </thead>\n",
       "  <tbody>\n",
       "    <tr>\n",
       "      <th>0</th>\n",
       "      <td>6.371097</td>\n",
       "      <td>0.982594</td>\n",
       "      <td>1</td>\n",
       "    </tr>\n",
       "    <tr>\n",
       "      <th>1</th>\n",
       "      <td>-3.472607</td>\n",
       "      <td>2.005099</td>\n",
       "      <td>2</td>\n",
       "    </tr>\n",
       "    <tr>\n",
       "      <th>2</th>\n",
       "      <td>-0.316587</td>\n",
       "      <td>4.570838</td>\n",
       "      <td>2</td>\n",
       "    </tr>\n",
       "    <tr>\n",
       "      <th>3</th>\n",
       "      <td>6.336829</td>\n",
       "      <td>-0.284369</td>\n",
       "      <td>1</td>\n",
       "    </tr>\n",
       "    <tr>\n",
       "      <th>4</th>\n",
       "      <td>-1.227194</td>\n",
       "      <td>7.934914</td>\n",
       "      <td>0</td>\n",
       "    </tr>\n",
       "  </tbody>\n",
       "</table>\n",
       "</div>"
      ],
      "text/plain": [
       "          A         B  Label\n",
       "0  6.371097  0.982594      1\n",
       "1 -3.472607  2.005099      2\n",
       "2 -0.316587  4.570838      2\n",
       "3  6.336829 -0.284369      1\n",
       "4 -1.227194  7.934914      0"
      ]
     },
     "execution_count": 6,
     "metadata": {},
     "output_type": "execute_result"
    }
   ],
   "source": [
    "# Add labels column to current data frame\n",
    "df['Label'] = labels\n",
    "df.head(5)"
   ]
  },
  {
   "cell_type": "code",
   "execution_count": 7,
   "metadata": {},
   "outputs": [],
   "source": [
    "groups = df.groupby('Label')"
   ]
  },
  {
   "cell_type": "code",
   "execution_count": 8,
   "metadata": {},
   "outputs": [],
   "source": [
    "sum_of_squares = 0\n",
    "\n",
    "for name, group in groups:\n",
    "    arr = np.array(group)[:,:2]\n",
    "    for x in arr:\n",
    "        sum_of_squares += np.sum((x-centers[name])**2)\n",
    "        "
   ]
  },
  {
   "cell_type": "code",
   "execution_count": 9,
   "metadata": {},
   "outputs": [
    {
     "data": {
      "text/plain": [
       "(2784.06823408584, 2784.068234085838)"
      ]
     },
     "execution_count": 9,
     "metadata": {},
     "output_type": "execute_result"
    }
   ],
   "source": [
    "# Computation is just being shown????\n",
    "inertia = km.inertia_\n",
    "inertia, sum_of_squares"
   ]
  },
  {
   "cell_type": "markdown",
   "metadata": {},
   "source": [
    "### Visualization Part"
   ]
  },
  {
   "cell_type": "code",
   "execution_count": 10,
   "metadata": {},
   "outputs": [
    {
     "data": {
      "text/plain": [
       "array([[0.66725292, 0.77917646, 0.99295921, 1.        ],\n",
       "       [0.9682034 , 0.7208441 , 0.61229299, 1.        ],\n",
       "       [0.9682034 , 0.7208441 , 0.61229299, 1.        ],\n",
       "       ...,\n",
       "       [0.9682034 , 0.7208441 , 0.61229299, 1.        ],\n",
       "       [0.2298057 , 0.29871797, 0.75368315, 1.        ],\n",
       "       [0.66725292, 0.77917646, 0.99295921, 1.        ]])"
      ]
     },
     "execution_count": 10,
     "metadata": {},
     "output_type": "execute_result"
    }
   ],
   "source": [
    "# Assign colors based on how many clusters\n",
    "colors = cm.coolwarm(np.array(labels).astype(float) / n_clus)\n",
    "colors"
   ]
  },
  {
   "cell_type": "code",
   "execution_count": 11,
   "metadata": {},
   "outputs": [
    {
     "data": {
      "image/png": "[encoded data removed]",
      "text/plain": [
       "<Figure size 432x288 with 1 Axes>"
      ]
     },
     "metadata": {
      "needs_background": "light"
     },
     "output_type": "display_data"
    }
   ],
   "source": [
    "fig, ax = plt.subplots()\n",
    "ax.scatter(df['A'],df['B'], marker='o', s=30, c=colors, edgecolor='k')\n",
    "ax.scatter(centers[:,0], centers[:,1], marker='o', c='white', s=200, edgecolor='k')\n",
    "\n",
    "for i, c in enumerate(centers):\n",
    "    ax.scatter(c[0], c[1], marker='$%d$'%i, s=50, edgecolor='k')\n",
    "plt.show()"
   ]
  },
  {
   "cell_type": "code",
   "execution_count": 13,
   "metadata": {},
   "outputs": [
    {
     "name": "stdout",
     "output_type": "stream",
     "text": [
      "For k=2, the score is 0.523646624712589\n",
      "For k=3, the score is 0.5389739230358216\n",
      "For k=4, the score is 0.5022786652229396\n",
      "For k=5, the score is 0.512795189209412\n",
      "For k=6, the score is 0.5138504906514931\n",
      "For k=7, the score is 0.4930135308266141\n",
      "For k=8, the score is 0.46769041090376334\n",
      "For k=9, the score is 0.44939361137345224\n",
      "For k=10, the score is 0.4452803356954857\n",
      "For k=11, the score is 0.42050521129135504\n",
      "For k=12, the score is 0.4114817661719793\n",
      "For k=13, the score is 0.35553429215120813\n",
      "For k=14, the score is 0.35745331101422106\n",
      "For k=15, the score is 0.3659424937068108\n",
      "For k=16, the score is 0.35971418448622455\n",
      "For k=17, the score is 0.36342460401869586\n",
      "For k=18, the score is 0.3703180971876268\n",
      "For k=19, the score is 0.375426698271725\n",
      "For k=20, the score is 0.3691907095057153\n"
     ]
    }
   ],
   "source": [
    "# Just showing example for different values of clusters\n",
    "for n_clus in range(2, 21):\n",
    "    labels = KMeans(n_clusters=n_clus, n_init=50, tol=1e-10, random_state=1234).fit_predict(df)\n",
    "    avg = silhouette_score(df, labels)\n",
    "    print(f'For k={n_clus}, the score is {avg}')"
   ]
  },
  {
   "cell_type": "markdown",
   "metadata": {},
   "source": [
    "### PCA"
   ]
  },
  {
   "cell_type": "code",
   "execution_count": 15,
   "metadata": {},
   "outputs": [
    {
     "data": {
      "text/html": [
       "<div>\n",
       "<style scoped>\n",
       "    .dataframe tbody tr th:only-of-type {\n",
       "        vertical-align: middle;\n",
       "    }\n",
       "\n",
       "    .dataframe tbody tr th {\n",
       "        vertical-align: top;\n",
       "    }\n",
       "\n",
       "    .dataframe thead th {\n",
       "        text-align: right;\n",
       "    }\n",
       "</style>\n",
       "<table border=\"1\" class=\"dataframe\">\n",
       "  <thead>\n",
       "    <tr style=\"text-align: right;\">\n",
       "      <th></th>\n",
       "      <th>0</th>\n",
       "      <th>1</th>\n",
       "      <th>2</th>\n",
       "      <th>3</th>\n",
       "      <th>4</th>\n",
       "      <th>5</th>\n",
       "      <th>6</th>\n",
       "      <th>7</th>\n",
       "      <th>8</th>\n",
       "      <th>9</th>\n",
       "      <th>...</th>\n",
       "      <th>54</th>\n",
       "      <th>55</th>\n",
       "      <th>56</th>\n",
       "      <th>57</th>\n",
       "      <th>58</th>\n",
       "      <th>59</th>\n",
       "      <th>60</th>\n",
       "      <th>61</th>\n",
       "      <th>62</th>\n",
       "      <th>63</th>\n",
       "    </tr>\n",
       "  </thead>\n",
       "  <tbody>\n",
       "    <tr>\n",
       "      <th>0</th>\n",
       "      <td>0.0</td>\n",
       "      <td>0.0</td>\n",
       "      <td>5.0</td>\n",
       "      <td>13.0</td>\n",
       "      <td>9.0</td>\n",
       "      <td>1.0</td>\n",
       "      <td>0.0</td>\n",
       "      <td>0.0</td>\n",
       "      <td>0.0</td>\n",
       "      <td>0.0</td>\n",
       "      <td>...</td>\n",
       "      <td>0.0</td>\n",
       "      <td>0.0</td>\n",
       "      <td>0.0</td>\n",
       "      <td>0.0</td>\n",
       "      <td>6.0</td>\n",
       "      <td>13.0</td>\n",
       "      <td>10.0</td>\n",
       "      <td>0.0</td>\n",
       "      <td>0.0</td>\n",
       "      <td>0.0</td>\n",
       "    </tr>\n",
       "    <tr>\n",
       "      <th>1</th>\n",
       "      <td>0.0</td>\n",
       "      <td>0.0</td>\n",
       "      <td>0.0</td>\n",
       "      <td>12.0</td>\n",
       "      <td>13.0</td>\n",
       "      <td>5.0</td>\n",
       "      <td>0.0</td>\n",
       "      <td>0.0</td>\n",
       "      <td>0.0</td>\n",
       "      <td>0.0</td>\n",
       "      <td>...</td>\n",
       "      <td>0.0</td>\n",
       "      <td>0.0</td>\n",
       "      <td>0.0</td>\n",
       "      <td>0.0</td>\n",
       "      <td>0.0</td>\n",
       "      <td>11.0</td>\n",
       "      <td>16.0</td>\n",
       "      <td>10.0</td>\n",
       "      <td>0.0</td>\n",
       "      <td>0.0</td>\n",
       "    </tr>\n",
       "    <tr>\n",
       "      <th>2</th>\n",
       "      <td>0.0</td>\n",
       "      <td>0.0</td>\n",
       "      <td>0.0</td>\n",
       "      <td>4.0</td>\n",
       "      <td>15.0</td>\n",
       "      <td>12.0</td>\n",
       "      <td>0.0</td>\n",
       "      <td>0.0</td>\n",
       "      <td>0.0</td>\n",
       "      <td>0.0</td>\n",
       "      <td>...</td>\n",
       "      <td>5.0</td>\n",
       "      <td>0.0</td>\n",
       "      <td>0.0</td>\n",
       "      <td>0.0</td>\n",
       "      <td>0.0</td>\n",
       "      <td>3.0</td>\n",
       "      <td>11.0</td>\n",
       "      <td>16.0</td>\n",
       "      <td>9.0</td>\n",
       "      <td>0.0</td>\n",
       "    </tr>\n",
       "  </tbody>\n",
       "</table>\n",
       "<p>3 rows × 64 columns</p>\n",
       "</div>"
      ],
      "text/plain": [
       "     0    1    2     3     4     5    6    7    8    9  ...   54   55   56  \\\n",
       "0  0.0  0.0  5.0  13.0   9.0   1.0  0.0  0.0  0.0  0.0  ...  0.0  0.0  0.0   \n",
       "1  0.0  0.0  0.0  12.0  13.0   5.0  0.0  0.0  0.0  0.0  ...  0.0  0.0  0.0   \n",
       "2  0.0  0.0  0.0   4.0  15.0  12.0  0.0  0.0  0.0  0.0  ...  5.0  0.0  0.0   \n",
       "\n",
       "    57   58    59    60    61   62   63  \n",
       "0  0.0  6.0  13.0  10.0   0.0  0.0  0.0  \n",
       "1  0.0  0.0  11.0  16.0  10.0  0.0  0.0  \n",
       "2  0.0  0.0   3.0  11.0  16.0  9.0  0.0  \n",
       "\n",
       "[3 rows x 64 columns]"
      ]
     },
     "execution_count": 15,
     "metadata": {},
     "output_type": "execute_result"
    }
   ],
   "source": [
    "df3 = pd.read_csv('../data/Example3.csv',sep='\\t')\n",
    "df3.head(3)"
   ]
  },
  {
   "cell_type": "code",
   "execution_count": 19,
   "metadata": {},
   "outputs": [
    {
     "data": {
      "text/plain": [
       "(1797, 2)"
      ]
     },
     "execution_count": 19,
     "metadata": {},
     "output_type": "execute_result"
    }
   ],
   "source": [
    "pca = PCA(n_components=2).fit(df3)\n",
    "x_new = pca.transform(df3)\n",
    "df3.shape\n",
    "x_new.shape"
   ]
  },
  {
   "cell_type": "markdown",
   "metadata": {},
   "source": [
    "# PCA Lecture\n",
    "\n",
    "**PCA, principal components are linearly uncorrelated**\n",
    "\n",
    "Some columns are related, e.g. if col2 is dependent in col1, then col1 increases its weight.\n",
    "\n",
    "How many PCS should I use?\n",
    "- Depends on how much *variability* you want.\n",
    "- Each principal component can only carry a certain percentage of the variability of the data. (So its not ideal to represent everything with only one feature)\n",
    "\n",
    "Variance Ratio:\n",
    "- Percentage of the variance that each component represent. e.g. if all are represented, ratio is 100%, if only PC1, then it contains a certain percent of all variability.\n",
    "- If PC1 is 40%, PC2 is 20% . . . . . . up to 100% variability. If k = N then 100% variability"
   ]
  },
  {
   "cell_type": "code",
   "execution_count": 19,
   "metadata": {},
   "outputs": [],
   "source": [
    "from sklearn import datasets"
   ]
  },
  {
   "cell_type": "code",
   "execution_count": 20,
   "metadata": {},
   "outputs": [],
   "source": [
    "housing = datasets.load_boston()\n",
    "X = housing.data"
   ]
  },
  {
   "cell_type": "code",
   "execution_count": 21,
   "metadata": {},
   "outputs": [
    {
     "data": {
      "text/plain": [
       "array([8.05823175e-01, 1.63051968e-01, 2.13486092e-02, 6.95699061e-03,\n",
       "       1.29995193e-03, 7.27220158e-04, 4.19044539e-04, 2.48538539e-04])"
      ]
     },
     "execution_count": 21,
     "metadata": {},
     "output_type": "execute_result"
    }
   ],
   "source": [
    "pca = PCA(n_components=8).fit(X)\n",
    "variance = pca.explained_variance_ratio_\n",
    "variance"
   ]
  },
  {
   "cell_type": "code",
   "execution_count": 43,
   "metadata": {},
   "outputs": [
    {
     "data": {
      "image/png": "[encoded data removed]",
      "text/plain": [
       "<Figure size 432x288 with 2 Axes>"
      ]
     },
     "metadata": {
      "needs_background": "light"
     },
     "output_type": "display_data"
    }
   ],
   "source": [
    "fig, ax = plt.subplots()\n",
    "\n",
    "for i, v in enumerate(variance):\n",
    "    ax.plot([i + 1, i + 1], [0, v], '-', color='red')\n",
    "ax.set_xlabel('PC')\n",
    "ax.set_ylabel('Exp. variance')\n",
    "ax.set_ylim([0, 1])\n",
    "\n",
    "ax2 = ax.twinx()\n",
    "ax2.set_ylim([0, 1])\n",
    "sum_var = np.cumsum(variance)\n",
    "ax2.plot(range(len(sum_var) + 1), [0] + list(sum_var), '-', color='black')\n",
    "\n",
    "fig.tight_layout()\n",
    "plt.show()"
   ]
  },
  {
   "cell_type": "markdown",
   "metadata": {},
   "source": [
    "Variance ratio\n",
    "- How many PCs you need?\n",
    "- If you dictate the no of PCs, how much of the variability will those PCs carry\n",
    "\n",
    "What variables are represented in each component? \n",
    "- loadings\n",
    "    L = [] k*m \n",
    "    \n",
    "    K = # of PCs, m = # of features\n",
    "    \n",
    "    Correlation coefficient [1, 0, -1], 1 strongly proportional, 0 not -1 strongly inverse proportional\n",
    "    \n",
    "```\n",
    "        F1, F2, . . . . . Fm (Feature/Column)\n",
    "{PC1}    [a11, a12, . . . a1m]\n",
    "{PC1}    [a21, a22, . . . a2m]\n",
    ". . .    [. . . . , . . . . .]\n",
    "{PCk}    [ak1, ak2, . . . akm]\n",
    "```\n",
    "\n",
    "aij representation of correlation between PCi and Fj\n",
    "- Will show which feature is represented by the most important PC (component)"
   ]
  },
  {
   "cell_type": "code",
   "execution_count": 46,
   "metadata": {},
   "outputs": [],
   "source": [
    "bos = datasets.load_boston()\n",
    "X = bos.data\n",
    "headers = bos.feature_names\n",
    "comps = 4"
   ]
  },
  {
   "cell_type": "code",
   "execution_count": 52,
   "metadata": {},
   "outputs": [
    {
     "data": {
      "text/plain": [
       "array(['CRIM', 'ZN', 'INDUS', 'CHAS', 'NOX', 'RM', 'AGE', 'DIS', 'RAD',\n",
       "       'TAX', 'PTRATIO', 'B', 'LSTAT'], dtype='<U7')"
      ]
     },
     "execution_count": 52,
     "metadata": {},
     "output_type": "execute_result"
    }
   ],
   "source": [
    "pca = PCA(n_components=comps).fit(X)\n",
    "var = pca.explained_variance_ratio_\n",
    "loadings = pca.components_\n",
    "headers"
   ]
  },
  {
   "cell_type": "code",
   "execution_count": 69,
   "metadata": {},
   "outputs": [
    {
     "data": {
      "image/png": "[encoded data removed]",
      "text/plain": [
       "<Figure size 1080x1080 with 4 Axes>"
      ]
     },
     "metadata": {
      "needs_background": "light"
     },
     "output_type": "display_data"
    }
   ],
   "source": [
    "fig, axes = plt.subplots(figsize=(15, 15))\n",
    "\n",
    "for i, ax in enumerate(var):\n",
    "    plt.subplot(2, 2, i+1)\n",
    "    plt.title('PCA{} Factor Loading ({})'.format(i+1, round(var[i], 2)))\n",
    "    data = zip(headers, loadings[i], abs(loadings[i]))\n",
    "    headers_s, loadings_actual, loadings_abs = zip(*sorted(data, reverse=True, key=itemgetter(2)))\n",
    "    \n",
    "    plt.bar(range(len(headers)), loadings_actual)\n",
    "    plt.xticks(range(len(headers)), headers_s, rotation=45)\n",
    "    \n",
    "plt.tight_layout()\n",
    "plt.show()"
   ]
  },
  {
   "cell_type": "code",
   "execution_count": null,
   "metadata": {},
   "outputs": [],
   "source": [
    "\n"
   ]
  }
 ],
 "metadata": {
  "kernelspec": {
   "display_name": "cs297-fZk1rqQo",
   "language": "python",
   "name": "cs297-fzk1rqqo"
  },
  "language_info": {
   "codemirror_mode": {
    "name": "ipython",
    "version": 3
   },
   "file_extension": ".py",
   "mimetype": "text/x-python",
   "name": "python",
   "nbconvert_exporter": "python",
   "pygments_lexer": "ipython3",
   "version": "3.6.1"
  }
 },
 "nbformat": 4,
 "nbformat_minor": 2
}
