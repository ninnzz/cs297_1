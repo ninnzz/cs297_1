{
 "cells": [
  {
   "cell_type": "code",
   "execution_count": 1,
   "metadata": {},
   "outputs": [],
   "source": [
    "import numpy as np\n",
    "import pandas as pd\n",
    "from sklearn import datasets\n",
    "from sklearn.metrics import confusion_matrix\n",
    "from sklearn.model_selection import train_test_split\n",
    "f"
   ]
  },
  {
   "cell_type": "markdown",
   "metadata": {},
   "source": [
    "### Statistical Regression\n",
    "\n",
    "```\n",
    "\n",
    "A n*m\n",
    "\n",
    "[\n",
    " x1_1, x1_2, x1_3 . . . . x1_m\n",
    " x2_1, x2_2, x2_3 . . . . x2_m\n",
    " .\n",
    " .\n",
    " .\n",
    " xn_1, xn_2, xn_3 . . . . xn_m\n",
    "\n",
    "]\n",
    "\n",
    "Y = \n",
    "\n",
    "[\n",
    " y1\n",
    " y2\n",
    " y3\n",
    " .\n",
    " .\n",
    " .\n",
    " yn\n",
    "]\n",
    "\n",
    "```\n",
    "\n",
    "**Goal**: Find `C = {C1, C2, C3, . . Cm` S.T. `C dot_prod x_i = y_i`\n",
    "\n",
    "> Strong correlation is set to 0.5+- for now\n"
   ]
  },
  {
   "cell_type": "code",
   "execution_count": 2,
   "metadata": {},
   "outputs": [],
   "source": [
    "FILE_X = '../data/lec_5/Example1_features.csv'\n",
    "FILE_Y = '../data/lec_5/Example1_target.csv'\n",
    "X_orig = pd.read_csv(FILE_X)\n",
    "y_orig = pd.read_csv(FILE_Y)"
   ]
  },
  {
   "cell_type": "code",
   "execution_count": 3,
   "metadata": {},
   "outputs": [],
   "source": [
    "y = y_orig.y\n",
    "X = X_orig"
   ]
  },
  {
   "cell_type": "code",
   "execution_count": 4,
   "metadata": {},
   "outputs": [],
   "source": [
    "X_train, X_test, y_train, y_test = train_test_split(X, y, test_size=0.4, random_state=5413)\n",
    "\n",
    "reg = LinearRegression().fit(X_train, y_train)\n",
    "m = reg.coef_\n",
    "b = reg.intercept_\n",
    "\n",
    "r_test = reg.score(X_test, y_test)\n",
    "r_train = reg.score(X_train, y_train)\n",
    "\n",
    "y_predicted = reg.predict(X)"
   ]
  },
  {
   "cell_type": "code",
   "execution_count": 5,
   "metadata": {},
   "outputs": [
    {
     "name": "stdout",
     "output_type": "stream",
     "text": [
      "slope: [-1.06406625  1.95908061]\n",
      "intercept: 7.834658715198598\n",
      "corr train: 0.9546396237743775\n",
      "corr test: 0.9436063811971677\n"
     ]
    }
   ],
   "source": [
    "print(f'slope: {m}')\n",
    "\n",
    "print(f'intercept: {b}')\n",
    "\n",
    "# print('correlation')\n",
    "# print(r)\n",
    "\n",
    "print(f'corr train: {r_train}')\n",
    "print(f'corr test: {r_test}')"
   ]
  },
  {
   "cell_type": "code",
   "execution_count": 6,
   "metadata": {},
   "outputs": [],
   "source": [
    "# This is how we split training data\n",
    "iris = datasets.load_iris()\n",
    "X_iris = iris.data\n",
    "y_iris = iris.target\n",
    "\n",
    "X_train, X_test, y_train, y_test = train_test_split(X_iris, y_iris, test_size=0.3, random_state=1234)"
   ]
  },
  {
   "cell_type": "markdown",
   "metadata": {},
   "source": [
    "## Logistic Regression\n",
    "\n",
    "```\n",
    "y = e^ θ1x1 + θ2x2 + θ3x3 + . . . + θnxn + θn+1\n",
    "\n",
    "Linearize:\n",
    "\n",
    "lny_hat = θ1x1 + θ2x2 + θ3x3 + . . . + θnxn + θn+1 // Linear regression problem\n",
    "\n",
    "```\n",
    "\n",
    "For classification, we will use\n",
    "\n",
    "\n",
    "```\n",
    "\n",
    "y_hat =  1 / (1 + e ^ -θX)\n",
    "\n",
    "```\n",
    "\n",
    "*Range*: [0, 1]"
   ]
  },
  {
   "cell_type": "markdown",
   "metadata": {},
   "source": [
    "##### Sample problem\n",
    "\n",
    "```\n",
    "A = [\n",
    " x1\n",
    " .\n",
    " .\n",
    " .\n",
    " xn\n",
    "]\n",
    "\n",
    "y = [\n",
    " y1\n",
    " .\n",
    " .\n",
    " .\n",
    " yn\n",
    "]\n",
    "\n",
    "where y_i is {0, 1}\n",
    "\n",
    "```\n",
    "\n",
    "If we perform linear regression on y_hat, then\n",
    "\n",
    "```\n",
    "\n",
    "y_hat = [\n",
    " y_hat1\n",
    " .\n",
    " .\n",
    " .\n",
    " y_hat_n\n",
    "]   => [0 ,1]         \n",
    "\n",
    "```\n",
    "\n",
    "**Impose a decision rule**\n",
    "\n",
    "If `y_hat >= 0.5` => 1\n",
    "\n",
    "else, =>0\n",
    "\n",
    "**Remark**\n",
    "\n",
    "```\n",
    "y = e^x => lny = x\n",
    "\n",
    "y = 1 / (1 + e^-x) => ln( y / 1-y) = x  <--- logit function\n",
    "```"
   ]
  },
  {
   "cell_type": "code",
   "execution_count": 7,
   "metadata": {},
   "outputs": [],
   "source": [
    "can = datasets.load_breast_cancer()\n",
    "\n",
    "X = can.data\n",
    "y = can.target"
   ]
  },
  {
   "cell_type": "code",
   "execution_count": 8,
   "metadata": {},
   "outputs": [
    {
     "name": "stderr",
     "output_type": "stream",
     "text": [
      "/Users/ninz/.local/share/virtualenvs/cs297-fZk1rqQo/lib/python3.6/site-packages/sklearn/linear_model/logistic.py:433: FutureWarning: Default solver will be changed to 'lbfgs' in 0.22. Specify a solver to silence this warning.\n",
      "  FutureWarning)\n"
     ]
    }
   ],
   "source": [
    "X_train, X_test, y_train, y_test = train_test_split(X, y, test_size=0.3, random_state=1234)\n",
    "clf = LogisticRegression(random_state=1234).fit(X_train, y_train)"
   ]
  },
  {
   "cell_type": "code",
   "execution_count": 9,
   "metadata": {},
   "outputs": [
    {
     "name": "stdout",
     "output_type": "stream",
     "text": [
      "0.9239766081871345\n",
      "0.9239766081871345\n"
     ]
    }
   ],
   "source": [
    "y_pre = clf.predict(X_test)\n",
    "\n",
    "_y = list(y_test)\n",
    "match = 0\n",
    "\n",
    "_y2 = list(y_pre)\n",
    "\n",
    "for i, v in enumerate(_y):\n",
    "    if _y2[i] == v:\n",
    "        match += 1\n",
    "\n",
    "match / len(_y)\n",
    "\n",
    "print(np.mean(y_pre == y_test))\n",
    "\n",
    "print(clf.score(X_test, y_test))"
   ]
  },
  {
   "cell_type": "markdown",
   "metadata": {},
   "source": [
    "**Confusion Matrix** (determine where are you correct or where are you not correct)\n",
    "\n",
    "```\n",
    "            Predicted\n",
    "            \n",
    "            0    1\n",
    "Actual  0  12    5  17\n",
    "        1   0   10  10\n",
    "```\n",
    "\n",
    "- overall accuracy: `22 / 27 = 81%`\n",
    "- class 0 accuracy: `12 / 17 = 71%`\n",
    "- class 1 accuracy: `10 / 10 = 100%`\n",
    "\n",
    "> The model is able to consider actual class 1 than class 0\n"
   ]
  },
  {
   "cell_type": "code",
   "execution_count": 11,
   "metadata": {},
   "outputs": [
    {
     "data": {
      "text/plain": [
       "array([[ 57,   9],\n",
       "       [  4, 101]])"
      ]
     },
     "execution_count": 11,
     "metadata": {},
     "output_type": "execute_result"
    }
   ],
   "source": [
    "conf = confusion_matrix(y_test, y_pre)\n",
    "\n",
    "conf"
   ]
  },
  {
   "cell_type": "code",
   "execution_count": 12,
   "metadata": {},
   "outputs": [],
   "source": [
    "# Exercise\n",
    "\n",
    "_y = y_orig.Labels\n",
    "X_train, X_test, y_train, y_test = train_test_split(X_orig, _y, test_size=0.25, random_state=1234)\n",
    "\n",
    "clf = LogisticRegression(multi_class='multinomial', solver='lbfgs', random_state=1234).fit(X_train, y_train)"
   ]
  },
  {
   "cell_type": "code",
   "execution_count": 13,
   "metadata": {},
   "outputs": [
    {
     "name": "stdout",
     "output_type": "stream",
     "text": [
      "0.9\n"
     ]
    }
   ],
   "source": [
    "y_pre = clf.predict(X_test)\n",
    "print(clf.score(X_test, y_test))"
   ]
  },
  {
   "cell_type": "code",
   "execution_count": 14,
   "metadata": {},
   "outputs": [
    {
     "data": {
      "text/plain": [
       "array([[9, 0, 0],\n",
       "       [0, 2, 1],\n",
       "       [1, 0, 7]])"
      ]
     },
     "execution_count": 14,
     "metadata": {},
     "output_type": "execute_result"
    }
   ],
   "source": [
    "conf = confusion_matrix(y_test, y_pre)\n",
    "conf"
   ]
  },
  {
   "cell_type": "markdown",
   "metadata": {},
   "source": [
    "## K-NN\n",
    "\n",
    "- Check the K nearest neighbors of x_new\n",
    "- The label with the most count is the label of x_new"
   ]
  },
  {
   "cell_type": "code",
   "execution_count": 15,
   "metadata": {},
   "outputs": [],
   "source": [
    "from sklearn.neighbors import KNeighborsClassifier\n",
    "from matplotlib import pyplot as plt\n",
    "from matplotlib import cm"
   ]
  },
  {
   "cell_type": "code",
   "execution_count": 16,
   "metadata": {},
   "outputs": [],
   "source": [
    "FILE_X = '../data/lec_5/kNN_features.csv'\n",
    "FILE_Y = '../data/lec_5/kNN_target.csv'\n",
    "X = pd.read_csv(FILE_X)\n",
    "y_ = pd.read_csv(FILE_Y)\n",
    "\n",
    "y = y_.Labels"
   ]
  },
  {
   "cell_type": "code",
   "execution_count": 17,
   "metadata": {},
   "outputs": [],
   "source": [
    "knn = KNeighborsClassifier(n_neighbors=3).fit(X, y)"
   ]
  },
  {
   "cell_type": "code",
   "execution_count": 18,
   "metadata": {},
   "outputs": [],
   "source": [
    "x_new = np.array([[1, -3], [2, 1]])"
   ]
  },
  {
   "cell_type": "code",
   "execution_count": 42,
   "metadata": {},
   "outputs": [],
   "source": [
    "knn.kneighbors(x_new)\n",
    "z = knn.predict(x_new)"
   ]
  },
  {
   "cell_type": "code",
   "execution_count": 69,
   "metadata": {},
   "outputs": [
    {
     "data": {
      "image/png": "[encoded data removed]",
      "text/plain": [
       "<Figure size 432x288 with 1 Axes>"
      ]
     },
     "metadata": {
      "needs_background": "light"
     },
     "output_type": "display_data"
    }
   ],
   "source": [
    "# DO THIS\n",
    "fig, ax = plt.subplots()\n",
    "ax.scatter(X['X1'], X['X2'], marker='o', s=30, edgecolor='k')\n",
    "\n",
    "ax.scatter(x_new[:,0], x_new[:,1], marker='o', s=30)\n",
    "\n",
    "for i, _x in enumerate(x_new):\n",
    "    ax.annotate('{}'.format(z[i]), (_x[0], _x[1]))\n",
    "for i, _x in X.iterrows():\n",
    "    ax.annotate('{}'.format(y[i]), (_x.X1, _x.X2))\n",
    "\n",
    "plt.show()"
   ]
  },
  {
   "cell_type": "code",
   "execution_count": null,
   "metadata": {},
   "outputs": [],
   "source": []
  }
 ],
 "metadata": {
  "kernelspec": {
   "display_name": "cs297-fZk1rqQo",
   "language": "python",
   "name": "cs297-fzk1rqqo"
  },
  "language_info": {
   "codemirror_mode": {
    "name": "ipython",
    "version": 3
   },
   "file_extension": ".py",
   "mimetype": "text/x-python",
   "name": "python",
   "nbconvert_exporter": "python",
   "pygments_lexer": "ipython3",
   "version": "3.6.1"
  }
 },
 "nbformat": 4,
 "nbformat_minor": 2
}
